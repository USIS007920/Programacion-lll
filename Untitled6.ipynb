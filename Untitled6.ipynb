{
  "nbformat": 4,
  "nbformat_minor": 0,
  "metadata": {
    "colab": {
      "name": "Untitled6.ipynb",
      "provenance": [],
      "authorship_tag": "ABX9TyMoyjVTnugddwF8OZOFVOvI",
      "include_colab_link": true
    },
    "kernelspec": {
      "name": "python3",
      "display_name": "Python 3"
    },
    "language_info": {
      "name": "python"
    }
  },
  "cells": [
    {
      "cell_type": "markdown",
      "metadata": {
        "id": "view-in-github",
        "colab_type": "text"
      },
      "source": [
        "<a href=\"https://colab.research.google.com/github/USIS007920/Programacion-lll/blob/Conversores-con-AI/Untitled6.ipynb\" target=\"_parent\"><img src=\"https://colab.research.google.com/assets/colab-badge.svg\" alt=\"Open In Colab\"/></a>"
      ]
    },
    {
      "cell_type": "code",
      "metadata": {
        "id": "0Wfq2-fBSt01"
      },
      "source": [
        "import tensorflow as tf\n",
        "import pandas as pd\n",
        "import matplotlib.pyplot as plt\n",
        "import seaborn as sns "
      ],
      "execution_count": null,
      "outputs": []
    },
    {
      "cell_type": "code",
      "metadata": {
        "colab": {
          "base_uri": "https://localhost:8080/",
          "height": 334
        },
        "id": "ds3D2Zf1WxUa",
        "outputId": "901f26ad-8e04-4090-9697-9e5de580bc03"
      },
      "source": [
        "Almacenamiento = pd.read_csv(\"/content/Almacenamiento.csv\", sep=\";\")\n",
        "\n",
        "sns.scatterplot(Almacenamiento[\"bit\"], Almacenamiento[\"kilobyte\"])\n",
        "plt.show()"
      ],
      "execution_count": null,
      "outputs": [
        {
          "output_type": "stream",
          "name": "stderr",
          "text": [
            "/usr/local/lib/python3.7/dist-packages/seaborn/_decorators.py:43: FutureWarning: Pass the following variables as keyword args: x, y. From version 0.12, the only valid positional argument will be `data`, and passing other arguments without an explicit keyword will result in an error or misinterpretation.\n",
            "  FutureWarning\n"
          ]
        },
        {
          "output_type": "display_data",
          "data": {
            "image/png": "[encoded data removed]",
            "text/plain": [
              "<Figure size 432x288 with 1 Axes>"
            ]
          },
          "metadata": {
            "needs_background": "light"
          }
        }
      ]
    },
    {
      "cell_type": "code",
      "metadata": {
        "id": "u5m7Drz9XZcF"
      },
      "source": [
        "bit = Almacenamiento[\"bit\"]\n",
        "kilobyte = Almacenamiento[\"kilobyte\"]"
      ],
      "execution_count": null,
      "outputs": []
    },
    {
      "cell_type": "code",
      "metadata": {
        "id": "ZmUeeKodYJK0"
      },
      "source": [
        "modelo = tf.keras.Sequential()\n",
        "modelo.add(tf.keras.layers.Dense(units=1, input_shape=[1]))"
      ],
      "execution_count": null,
      "outputs": []
    },
    {
      "cell_type": "code",
      "metadata": {
        "id": "hyyg6GBmYNhE"
      },
      "source": [
        "modelo.compile(optimizer=tf.keras.optimizers.Adam(1),loss='mean_squared_error')"
      ],
      "execution_count": null,
      "outputs": []
    },
    {
      "cell_type": "code",
      "metadata": {
        "colab": {
          "base_uri": "https://localhost:8080/"
        },
        "id": "ly18hPUKYSQJ",
        "outputId": "2747ef4f-c5ac-4389-b380-05c1c2923a3b"
      },
      "source": [
        "epocas = modelo.fit(bit, kilobyte, epochs=400)"
      ],
      "execution_count": null,
      "outputs": [
        {
          "output_type": "stream",
          "name": "stdout",
          "text": [
            "Epoch 1/400\n",
            "1/1 [==============================] - 0s 4ms/step - loss: 7.5221e-07\n",
            "Epoch 2/400\n",
            "1/1 [==============================] - 0s 4ms/step - loss: 3.9647e-07\n",
            "Epoch 3/400\n",
            "1/1 [==============================] - 0s 6ms/step - loss: 4.3856e-11\n",
            "Epoch 4/400\n",
            "1/1 [==============================] - 0s 4ms/step - loss: 3.1363e-07\n",
            "Epoch 5/400\n",
            "1/1 [==============================] - 0s 7ms/step - loss: 4.9834e-07\n",
            "Epoch 6/400\n",
            "1/1 [==============================] - 0s 6ms/step - loss: 1.4122e-07\n",
            "Epoch 7/400\n",
            "1/1 [==============================] - 0s 4ms/step - loss: 2.8596e-08\n",
            "Epoch 8/400\n",
            "1/1 [==============================] - 0s 6ms/step - loss: 3.0164e-07\n",
            "Epoch 9/400\n",
            "1/1 [==============================] - 0s 3ms/step - loss: 2.8121e-07\n",
            "Epoch 10/400\n",
            "1/1 [==============================] - 0s 4ms/step - loss: 2.6592e-08\n",
            "Epoch 11/400\n",
            "1/1 [==============================] - 0s 4ms/step - loss: 7.7008e-08\n",
            "Epoch 12/400\n",
            "1/1 [==============================] - 0s 6ms/step - loss: 2.3983e-07\n",
            "Epoch 13/400\n",
            "1/1 [==============================] - 0s 5ms/step - loss: 1.2617e-07\n",
            "Epoch 14/400\n",
            "1/1 [==============================] - 0s 5ms/step - loss: 2.7293e-10\n",
            "Epoch 15/400\n",
            "1/1 [==============================] - 0s 4ms/step - loss: 1.0578e-07\n",
            "Epoch 16/400\n",
            "1/1 [==============================] - 0s 5ms/step - loss: 1.5732e-07\n",
            "Epoch 17/400\n",
            "1/1 [==============================] - 0s 7ms/step - loss: 3.7820e-08\n",
            "Epoch 18/400\n",
            "1/1 [==============================] - 0s 4ms/step - loss: 1.4538e-08\n",
            "Epoch 19/400\n",
            "1/1 [==============================] - 0s 5ms/step - loss: 1.0363e-07\n",
            "Epoch 20/400\n",
            "1/1 [==============================] - 0s 9ms/step - loss: 8.1686e-08\n",
            "Epoch 21/400\n",
            "1/1 [==============================] - 0s 4ms/step - loss: 3.5842e-09\n",
            "Epoch 22/400\n",
            "1/1 [==============================] - 0s 4ms/step - loss: 3.4731e-08\n",
            "Epoch 23/400\n",
            "1/1 [==============================] - 0s 3ms/step - loss: 7.8274e-08\n",
            "Epoch 24/400\n",
            "1/1 [==============================] - 0s 3ms/step - loss: 2.9773e-08\n",
            "Epoch 25/400\n",
            "1/1 [==============================] - 0s 4ms/step - loss: 1.9030e-09\n",
            "Epoch 26/400\n",
            "1/1 [==============================] - 0s 5ms/step - loss: 4.3117e-08\n",
            "Epoch 27/400\n",
            "1/1 [==============================] - 0s 6ms/step - loss: 4.5279e-08\n",
            "Epoch 28/400\n",
            "1/1 [==============================] - 0s 5ms/step - loss: 4.9357e-09\n",
            "Epoch 29/400\n",
            "1/1 [==============================] - 0s 6ms/step - loss: 1.1514e-08\n",
            "Epoch 30/400\n",
            "1/1 [==============================] - 0s 9ms/step - loss: 3.7104e-08\n",
            "Epoch 31/400\n",
            "1/1 [==============================] - 0s 5ms/step - loss: 1.8302e-08\n",
            "Epoch 32/400\n",
            "1/1 [==============================] - 0s 6ms/step - loss: 1.2336e-10\n",
            "Epoch 33/400\n",
            "1/1 [==============================] - 0s 8ms/step - loss: 1.8306e-08\n",
            "Epoch 34/400\n",
            "1/1 [==============================] - 0s 7ms/step - loss: 2.3207e-08\n",
            "Epoch 35/400\n",
            "1/1 [==============================] - 0s 5ms/step - loss: 3.6507e-09\n",
            "Epoch 36/400\n",
            "1/1 [==============================] - 0s 5ms/step - loss: 4.2485e-09\n",
            "Epoch 37/400\n",
            "1/1 [==============================] - 0s 5ms/step - loss: 1.7518e-08\n",
            "Epoch 38/400\n",
            "1/1 [==============================] - 0s 5ms/step - loss: 9.8187e-09\n",
            "Epoch 39/400\n",
            "1/1 [==============================] - 0s 11ms/step - loss: 8.4010e-12\n",
            "Epoch 40/400\n",
            "1/1 [==============================] - 0s 12ms/step - loss: 8.2941e-09\n",
            "Epoch 41/400\n",
            "1/1 [==============================] - 0s 5ms/step - loss: 1.1427e-08\n",
            "Epoch 42/400\n",
            "1/1 [==============================] - 0s 7ms/step - loss: 2.0007e-09\n",
            "Epoch 43/400\n",
            "1/1 [==============================] - 0s 6ms/step - loss: 1.9073e-09\n",
            "Epoch 44/400\n",
            "1/1 [==============================] - 0s 5ms/step - loss: 8.4303e-09\n",
            "Epoch 45/400\n",
            "1/1 [==============================] - 0s 6ms/step - loss: 4.7825e-09\n",
            "Epoch 46/400\n",
            "1/1 [==============================] - 0s 5ms/step - loss: 1.2089e-11\n",
            "Epoch 47/400\n",
            "1/1 [==============================] - 0s 4ms/step - loss: 4.0869e-09\n",
            "Epoch 48/400\n",
            "1/1 [==============================] - 0s 5ms/step - loss: 5.4719e-09\n",
            "Epoch 49/400\n",
            "1/1 [==============================] - 0s 5ms/step - loss: 8.6072e-10\n",
            "Epoch 50/400\n",
            "1/1 [==============================] - 0s 6ms/step - loss: 1.0591e-09\n",
            "Epoch 51/400\n",
            "1/1 [==============================] - 0s 5ms/step - loss: 4.1427e-09\n",
            "Epoch 52/400\n",
            "1/1 [==============================] - 0s 5ms/step - loss: 2.1169e-09\n",
            "Epoch 53/400\n",
            "1/1 [==============================] - 0s 5ms/step - loss: 2.3308e-11\n",
            "Epoch 54/400\n",
            "1/1 [==============================] - 0s 6ms/step - loss: 2.1685e-09\n",
            "Epoch 55/400\n",
            "1/1 [==============================] - 0s 6ms/step - loss: 2.5276e-09\n",
            "Epoch 56/400\n",
            "1/1 [==============================] - 0s 6ms/step - loss: 2.7277e-10\n",
            "Epoch 57/400\n",
            "1/1 [==============================] - 0s 5ms/step - loss: 6.8875e-10\n",
            "Epoch 58/400\n",
            "1/1 [==============================] - 0s 5ms/step - loss: 2.0476e-09\n",
            "Epoch 59/400\n",
            "1/1 [==============================] - 0s 5ms/step - loss: 8.2608e-10\n",
            "Epoch 60/400\n",
            "1/1 [==============================] - 0s 6ms/step - loss: 5.7888e-11\n",
            "Epoch 61/400\n",
            "1/1 [==============================] - 0s 5ms/step - loss: 1.2025e-09\n",
            "Epoch 62/400\n",
            "1/1 [==============================] - 0s 5ms/step - loss: 1.0978e-09\n",
            "Epoch 63/400\n",
            "1/1 [==============================] - 0s 6ms/step - loss: 4.7164e-11\n",
            "Epoch 64/400\n",
            "1/1 [==============================] - 0s 5ms/step - loss: 4.8353e-10\n",
            "Epoch 65/400\n",
            "1/1 [==============================] - 0s 4ms/step - loss: 9.8830e-10\n",
            "Epoch 66/400\n",
            "1/1 [==============================] - 0s 5ms/step - loss: 2.6270e-10\n",
            "Epoch 67/400\n",
            "1/1 [==============================] - 0s 4ms/step - loss: 9.6313e-11\n",
            "Epoch 68/400\n",
            "1/1 [==============================] - 0s 5ms/step - loss: 6.6705e-10\n",
            "Epoch 69/400\n",
            "1/1 [==============================] - 0s 5ms/step - loss: 4.2605e-10\n",
            "Epoch 70/400\n",
            "1/1 [==============================] - 0s 5ms/step - loss: 4.5887e-13\n",
            "Epoch 71/400\n",
            "1/1 [==============================] - 0s 5ms/step - loss: 3.3713e-10\n",
            "Epoch 72/400\n",
            "1/1 [==============================] - 0s 7ms/step - loss: 4.4407e-10\n",
            "Epoch 73/400\n",
            "1/1 [==============================] - 0s 6ms/step - loss: 5.4610e-11\n",
            "Epoch 74/400\n",
            "1/1 [==============================] - 0s 5ms/step - loss: 1.1412e-10\n",
            "Epoch 75/400\n",
            "1/1 [==============================] - 0s 5ms/step - loss: 3.5007e-10\n",
            "Epoch 76/400\n",
            "1/1 [==============================] - 0s 7ms/step - loss: 1.3311e-10\n",
            "Epoch 77/400\n",
            "1/1 [==============================] - 0s 6ms/step - loss: 1.5374e-11\n",
            "Epoch 78/400\n",
            "1/1 [==============================] - 0s 5ms/step - loss: 2.1772e-10\n",
            "Epoch 79/400\n",
            "1/1 [==============================] - 0s 5ms/step - loss: 1.7206e-10\n",
            "Epoch 80/400\n",
            "1/1 [==============================] - 0s 6ms/step - loss: 2.3451e-12\n",
            "Epoch 81/400\n",
            "1/1 [==============================] - 0s 5ms/step - loss: 1.0456e-10\n",
            "Epoch 82/400\n",
            "1/1 [==============================] - 0s 5ms/step - loss: 1.6234e-10\n",
            "Epoch 83/400\n",
            "1/1 [==============================] - 0s 6ms/step - loss: 2.5533e-11\n",
            "Epoch 84/400\n",
            "1/1 [==============================] - 0s 5ms/step - loss: 3.4407e-11\n",
            "Epoch 85/400\n",
            "1/1 [==============================] - 0s 7ms/step - loss: 1.2275e-10\n",
            "Epoch 86/400\n",
            "1/1 [==============================] - 0s 4ms/step - loss: 4.9886e-11\n",
            "Epoch 87/400\n",
            "1/1 [==============================] - 0s 4ms/step - loss: 4.5983e-12\n",
            "Epoch 88/400\n",
            "1/1 [==============================] - 0s 4ms/step - loss: 7.6359e-11\n",
            "Epoch 89/400\n",
            "1/1 [==============================] - 0s 4ms/step - loss: 6.0341e-11\n",
            "Epoch 90/400\n",
            "1/1 [==============================] - 0s 4ms/step - loss: 5.3019e-13\n",
            "Epoch 91/400\n",
            "1/1 [==============================] - 0s 6ms/step - loss: 3.8470e-11\n",
            "Epoch 92/400\n",
            "1/1 [==============================] - 0s 4ms/step - loss: 5.6324e-11\n",
            "Epoch 93/400\n",
            "1/1 [==============================] - 0s 4ms/step - loss: 7.2095e-12\n",
            "Epoch 94/400\n",
            "1/1 [==============================] - 0s 4ms/step - loss: 1.4527e-11\n",
            "Epoch 95/400\n",
            "1/1 [==============================] - 0s 4ms/step - loss: 4.3730e-11\n",
            "Epoch 96/400\n",
            "1/1 [==============================] - 0s 4ms/step - loss: 1.4647e-11\n",
            "Epoch 97/400\n",
            "1/1 [==============================] - 0s 5ms/step - loss: 3.1395e-12\n",
            "Epoch 98/400\n",
            "1/1 [==============================] - 0s 5ms/step - loss: 2.9017e-11\n",
            "Epoch 99/400\n",
            "1/1 [==============================] - 0s 6ms/step - loss: 1.8473e-11\n",
            "Epoch 100/400\n",
            "1/1 [==============================] - 0s 5ms/step - loss: 5.2890e-14\n",
            "Epoch 101/400\n",
            "1/1 [==============================] - 0s 9ms/step - loss: 1.6462e-11\n",
            "Epoch 102/400\n",
            "1/1 [==============================] - 0s 6ms/step - loss: 1.8214e-11\n",
            "Epoch 103/400\n",
            "1/1 [==============================] - 0s 5ms/step - loss: 9.8900e-13\n",
            "Epoch 104/400\n",
            "1/1 [==============================] - 0s 5ms/step - loss: 7.7568e-12\n",
            "Epoch 105/400\n",
            "1/1 [==============================] - 0s 6ms/step - loss: 1.5225e-11\n",
            "Epoch 106/400\n",
            "1/1 [==============================] - 0s 8ms/step - loss: 2.9584e-12\n",
            "Epoch 107/400\n",
            "1/1 [==============================] - 0s 12ms/step - loss: 2.7845e-12\n",
            "Epoch 108/400\n",
            "1/1 [==============================] - 0s 4ms/step - loss: 1.1177e-11\n",
            "Epoch 109/400\n",
            "1/1 [==============================] - 0s 4ms/step - loss: 4.4279e-12\n",
            "Epoch 110/400\n",
            "1/1 [==============================] - 0s 4ms/step - loss: 5.7459e-13\n",
            "Epoch 111/400\n",
            "1/1 [==============================] - 0s 6ms/step - loss: 7.3063e-12\n",
            "Epoch 112/400\n",
            "1/1 [==============================] - 0s 5ms/step - loss: 4.9435e-12\n",
            "Epoch 113/400\n",
            "1/1 [==============================] - 0s 5ms/step - loss: 7.5221e-15\n",
            "Epoch 114/400\n",
            "1/1 [==============================] - 0s 6ms/step - loss: 4.2540e-12\n",
            "Epoch 115/400\n",
            "1/1 [==============================] - 0s 5ms/step - loss: 4.6422e-12\n",
            "Epoch 116/400\n",
            "1/1 [==============================] - 0s 9ms/step - loss: 1.9390e-13\n",
            "Epoch 117/400\n",
            "1/1 [==============================] - 0s 8ms/step - loss: 2.1746e-12\n",
            "Epoch 118/400\n",
            "1/1 [==============================] - 0s 8ms/step - loss: 3.8594e-12\n",
            "Epoch 119/400\n",
            "1/1 [==============================] - 0s 7ms/step - loss: 5.7372e-13\n",
            "Epoch 120/400\n",
            "1/1 [==============================] - 0s 6ms/step - loss: 9.3675e-13\n",
            "Epoch 121/400\n",
            "1/1 [==============================] - 0s 8ms/step - loss: 2.9169e-12\n",
            "Epoch 122/400\n",
            "1/1 [==============================] - 0s 4ms/step - loss: 8.7313e-13\n",
            "Epoch 123/400\n",
            "1/1 [==============================] - 0s 12ms/step - loss: 3.0687e-13\n",
            "Epoch 124/400\n",
            "1/1 [==============================] - 0s 5ms/step - loss: 2.0340e-12\n",
            "Epoch 125/400\n",
            "1/1 [==============================] - 0s 8ms/step - loss: 1.0068e-12\n",
            "Epoch 126/400\n",
            "1/1 [==============================] - 0s 5ms/step - loss: 5.4748e-14\n",
            "Epoch 127/400\n",
            "1/1 [==============================] - 0s 4ms/step - loss: 1.3166e-12\n",
            "Epoch 128/400\n",
            "1/1 [==============================] - 0s 4ms/step - loss: 9.8952e-13\n",
            "Epoch 129/400\n",
            "1/1 [==============================] - 0s 5ms/step - loss: 1.6026e-15\n",
            "Epoch 130/400\n",
            "1/1 [==============================] - 0s 3ms/step - loss: 7.9170e-13\n",
            "Epoch 131/400\n",
            "1/1 [==============================] - 0s 4ms/step - loss: 8.7450e-13\n",
            "Epoch 132/400\n",
            "1/1 [==============================] - 0s 4ms/step - loss: 3.1090e-14\n",
            "Epoch 133/400\n",
            "1/1 [==============================] - 0s 6ms/step - loss: 4.4073e-13\n",
            "Epoch 134/400\n",
            "1/1 [==============================] - 0s 8ms/step - loss: 7.1412e-13\n",
            "Epoch 135/400\n",
            "1/1 [==============================] - 0s 5ms/step - loss: 7.8478e-14\n",
            "Epoch 136/400\n",
            "1/1 [==============================] - 0s 4ms/step - loss: 2.2400e-13\n",
            "Epoch 137/400\n",
            "1/1 [==============================] - 0s 4ms/step - loss: 5.4820e-13\n",
            "Epoch 138/400\n",
            "1/1 [==============================] - 0s 4ms/step - loss: 1.1517e-13\n",
            "Epoch 139/400\n",
            "1/1 [==============================] - 0s 6ms/step - loss: 1.0143e-13\n",
            "Epoch 140/400\n",
            "1/1 [==============================] - 0s 4ms/step - loss: 4.0050e-13\n",
            "Epoch 141/400\n",
            "1/1 [==============================] - 0s 6ms/step - loss: 1.3281e-13\n",
            "Epoch 142/400\n",
            "1/1 [==============================] - 0s 5ms/step - loss: 3.8709e-14\n",
            "Epoch 143/400\n",
            "1/1 [==============================] - 0s 5ms/step - loss: 2.8073e-13\n",
            "Epoch 144/400\n",
            "1/1 [==============================] - 0s 5ms/step - loss: 1.3355e-13\n",
            "Epoch 145/400\n",
            "1/1 [==============================] - 0s 7ms/step - loss: 1.0849e-14\n",
            "Epoch 146/400\n",
            "1/1 [==============================] - 0s 4ms/step - loss: 1.8978e-13\n",
            "Epoch 147/400\n",
            "1/1 [==============================] - 0s 5ms/step - loss: 1.2284e-13\n",
            "Epoch 148/400\n",
            "1/1 [==============================] - 0s 5ms/step - loss: 1.3001e-15\n",
            "Epoch 149/400\n",
            "1/1 [==============================] - 0s 4ms/step - loss: 1.2438e-13\n",
            "Epoch 150/400\n",
            "1/1 [==============================] - 0s 4ms/step - loss: 1.0610e-13\n",
            "Epoch 151/400\n",
            "1/1 [==============================] - 0s 4ms/step - loss: 2.1198e-16\n",
            "Epoch 152/400\n",
            "1/1 [==============================] - 0s 4ms/step - loss: 7.9123e-14\n",
            "Epoch 153/400\n",
            "1/1 [==============================] - 0s 5ms/step - loss: 8.7372e-14\n",
            "Epoch 154/400\n",
            "1/1 [==============================] - 0s 4ms/step - loss: 2.0702e-15\n",
            "Epoch 155/400\n",
            "1/1 [==============================] - 0s 4ms/step - loss: 4.9018e-14\n",
            "Epoch 156/400\n",
            "1/1 [==============================] - 0s 4ms/step - loss: 6.9152e-14\n",
            "Epoch 157/400\n",
            "1/1 [==============================] - 0s 4ms/step - loss: 4.2935e-15\n",
            "Epoch 158/400\n",
            "1/1 [==============================] - 0s 22ms/step - loss: 2.9754e-14\n",
            "Epoch 159/400\n",
            "1/1 [==============================] - 0s 8ms/step - loss: 5.3344e-14\n",
            "Epoch 160/400\n",
            "1/1 [==============================] - 0s 5ms/step - loss: 5.7698e-15\n",
            "Epoch 161/400\n",
            "1/1 [==============================] - 0s 4ms/step - loss: 1.7656e-14\n",
            "Epoch 162/400\n",
            "1/1 [==============================] - 0s 4ms/step - loss: 4.0234e-14\n",
            "Epoch 163/400\n",
            "1/1 [==============================] - 0s 4ms/step - loss: 6.4073e-15\n",
            "Epoch 164/400\n",
            "1/1 [==============================] - 0s 7ms/step - loss: 1.0330e-14\n",
            "Epoch 165/400\n",
            "1/1 [==============================] - 0s 4ms/step - loss: 2.9775e-14\n",
            "Epoch 166/400\n",
            "1/1 [==============================] - 0s 7ms/step - loss: 6.3122e-15\n",
            "Epoch 167/400\n",
            "1/1 [==============================] - 0s 4ms/step - loss: 5.8823e-15\n",
            "Epoch 168/400\n",
            "1/1 [==============================] - 0s 5ms/step - loss: 2.1705e-14\n",
            "Epoch 169/400\n",
            "1/1 [==============================] - 0s 5ms/step - loss: 5.8078e-15\n",
            "Epoch 170/400\n",
            "1/1 [==============================] - 0s 4ms/step - loss: 3.3001e-15\n",
            "Epoch 171/400\n",
            "1/1 [==============================] - 0s 4ms/step - loss: 1.5736e-14\n",
            "Epoch 172/400\n",
            "1/1 [==============================] - 0s 4ms/step - loss: 5.0710e-15\n",
            "Epoch 173/400\n",
            "1/1 [==============================] - 0s 4ms/step - loss: 1.8724e-15\n",
            "Epoch 174/400\n",
            "1/1 [==============================] - 0s 7ms/step - loss: 1.1342e-14\n",
            "Epoch 175/400\n",
            "1/1 [==============================] - 0s 8ms/step - loss: 4.2116e-15\n",
            "Epoch 176/400\n",
            "1/1 [==============================] - 0s 8ms/step - loss: 1.0756e-15\n",
            "Epoch 177/400\n",
            "1/1 [==============================] - 0s 5ms/step - loss: 8.1160e-15\n",
            "Epoch 178/400\n",
            "1/1 [==============================] - 0s 5ms/step - loss: 3.4023e-15\n",
            "Epoch 179/400\n",
            "1/1 [==============================] - 0s 5ms/step - loss: 6.0159e-16\n",
            "Epoch 180/400\n",
            "1/1 [==============================] - 0s 5ms/step - loss: 5.8803e-15\n",
            "Epoch 181/400\n",
            "1/1 [==============================] - 0s 4ms/step - loss: 2.6996e-15\n",
            "Epoch 182/400\n",
            "1/1 [==============================] - 0s 4ms/step - loss: 3.6983e-16\n",
            "Epoch 183/400\n",
            "1/1 [==============================] - 0s 4ms/step - loss: 4.2076e-15\n",
            "Epoch 184/400\n",
            "1/1 [==============================] - 0s 4ms/step - loss: 2.0391e-15\n",
            "Epoch 185/400\n",
            "1/1 [==============================] - 0s 4ms/step - loss: 2.1676e-16\n",
            "Epoch 186/400\n",
            "1/1 [==============================] - 0s 4ms/step - loss: 3.0342e-15\n",
            "Epoch 187/400\n",
            "1/1 [==============================] - 0s 4ms/step - loss: 1.5527e-15\n",
            "Epoch 188/400\n",
            "1/1 [==============================] - 0s 4ms/step - loss: 1.4125e-16\n",
            "Epoch 189/400\n",
            "1/1 [==============================] - 0s 4ms/step - loss: 2.1584e-15\n",
            "Epoch 190/400\n",
            "1/1 [==============================] - 0s 5ms/step - loss: 1.1710e-15\n",
            "Epoch 191/400\n",
            "1/1 [==============================] - 0s 4ms/step - loss: 8.6080e-17\n",
            "Epoch 192/400\n",
            "1/1 [==============================] - 0s 4ms/step - loss: 1.5762e-15\n",
            "Epoch 193/400\n",
            "1/1 [==============================] - 0s 4ms/step - loss: 8.6955e-16\n",
            "Epoch 194/400\n",
            "1/1 [==============================] - 0s 5ms/step - loss: 6.2361e-17\n",
            "Epoch 195/400\n",
            "1/1 [==============================] - 0s 4ms/step - loss: 1.1509e-15\n",
            "Epoch 196/400\n",
            "1/1 [==============================] - 0s 4ms/step - loss: 6.2694e-16\n",
            "Epoch 197/400\n",
            "1/1 [==============================] - 0s 6ms/step - loss: 4.8785e-17\n",
            "Epoch 198/400\n",
            "1/1 [==============================] - 0s 5ms/step - loss: 8.4680e-16\n",
            "Epoch 199/400\n",
            "1/1 [==============================] - 0s 5ms/step - loss: 4.4517e-16\n",
            "Epoch 200/400\n",
            "1/1 [==============================] - 0s 9ms/step - loss: 3.9366e-17\n",
            "Epoch 201/400\n",
            "1/1 [==============================] - 0s 5ms/step - loss: 6.0970e-16\n",
            "Epoch 202/400\n",
            "1/1 [==============================] - 0s 6ms/step - loss: 3.1594e-16\n",
            "Epoch 203/400\n",
            "1/1 [==============================] - 0s 12ms/step - loss: 3.1610e-17\n",
            "Epoch 204/400\n",
            "1/1 [==============================] - 0s 5ms/step - loss: 4.5330e-16\n",
            "Epoch 205/400\n",
            "1/1 [==============================] - 0s 6ms/step - loss: 2.2638e-16\n",
            "Epoch 206/400\n",
            "1/1 [==============================] - 0s 5ms/step - loss: 3.0890e-17\n",
            "Epoch 207/400\n",
            "1/1 [==============================] - 0s 5ms/step - loss: 3.4497e-16\n",
            "Epoch 208/400\n",
            "1/1 [==============================] - 0s 4ms/step - loss: 1.4823e-16\n",
            "Epoch 209/400\n",
            "1/1 [==============================] - 0s 10ms/step - loss: 2.7175e-17\n",
            "Epoch 210/400\n",
            "1/1 [==============================] - 0s 11ms/step - loss: 2.4916e-16\n",
            "Epoch 211/400\n",
            "1/1 [==============================] - 0s 7ms/step - loss: 1.0082e-16\n",
            "Epoch 212/400\n",
            "1/1 [==============================] - 0s 9ms/step - loss: 2.4059e-17\n",
            "Epoch 213/400\n",
            "1/1 [==============================] - 0s 18ms/step - loss: 1.8310e-16\n",
            "Epoch 214/400\n",
            "1/1 [==============================] - 0s 5ms/step - loss: 6.2173e-17\n",
            "Epoch 215/400\n",
            "1/1 [==============================] - 0s 4ms/step - loss: 2.2614e-17\n",
            "Epoch 216/400\n",
            "1/1 [==============================] - 0s 6ms/step - loss: 1.3142e-16\n",
            "Epoch 217/400\n",
            "1/1 [==============================] - 0s 8ms/step - loss: 3.5641e-17\n",
            "Epoch 218/400\n",
            "1/1 [==============================] - 0s 5ms/step - loss: 1.9854e-17\n",
            "Epoch 219/400\n",
            "1/1 [==============================] - 0s 4ms/step - loss: 8.9813e-17\n",
            "Epoch 220/400\n",
            "1/1 [==============================] - 0s 7ms/step - loss: 2.2868e-17\n",
            "Epoch 221/400\n",
            "1/1 [==============================] - 0s 4ms/step - loss: 1.8916e-17\n",
            "Epoch 222/400\n",
            "1/1 [==============================] - 0s 4ms/step - loss: 6.5512e-17\n",
            "Epoch 223/400\n",
            "1/1 [==============================] - 0s 5ms/step - loss: 1.0573e-17\n",
            "Epoch 224/400\n",
            "1/1 [==============================] - 0s 5ms/step - loss: 1.6673e-17\n",
            "Epoch 225/400\n",
            "1/1 [==============================] - 0s 4ms/step - loss: 4.5999e-17\n",
            "Epoch 226/400\n",
            "1/1 [==============================] - 0s 4ms/step - loss: 6.6304e-18\n",
            "Epoch 227/400\n",
            "1/1 [==============================] - 0s 6ms/step - loss: 1.8239e-17\n",
            "Epoch 228/400\n",
            "1/1 [==============================] - 0s 6ms/step - loss: 3.3981e-17\n",
            "Epoch 229/400\n",
            "1/1 [==============================] - 0s 8ms/step - loss: 2.4194e-18\n",
            "Epoch 230/400\n",
            "1/1 [==============================] - 0s 7ms/step - loss: 1.6126e-17\n",
            "Epoch 231/400\n",
            "1/1 [==============================] - 0s 3ms/step - loss: 2.3585e-17\n",
            "Epoch 232/400\n",
            "1/1 [==============================] - 0s 3ms/step - loss: 5.3182e-19\n",
            "Epoch 233/400\n",
            "1/1 [==============================] - 0s 3ms/step - loss: 1.2653e-17\n",
            "Epoch 234/400\n",
            "1/1 [==============================] - 0s 4ms/step - loss: 1.5885e-17\n",
            "Epoch 235/400\n",
            "1/1 [==============================] - 0s 5ms/step - loss: 1.9016e-19\n",
            "Epoch 236/400\n",
            "1/1 [==============================] - 0s 4ms/step - loss: 1.0924e-17\n",
            "Epoch 237/400\n",
            "1/1 [==============================] - 0s 4ms/step - loss: 1.0934e-17\n",
            "Epoch 238/400\n",
            "1/1 [==============================] - 0s 5ms/step - loss: 8.0725e-20\n",
            "Epoch 239/400\n",
            "1/1 [==============================] - 0s 4ms/step - loss: 9.6562e-18\n",
            "Epoch 240/400\n",
            "1/1 [==============================] - 0s 4ms/step - loss: 6.3702e-18\n",
            "Epoch 241/400\n",
            "1/1 [==============================] - 0s 6ms/step - loss: 4.9347e-19\n",
            "Epoch 242/400\n",
            "1/1 [==============================] - 0s 4ms/step - loss: 6.6960e-18\n",
            "Epoch 243/400\n",
            "1/1 [==============================] - 0s 4ms/step - loss: 3.1580e-18\n",
            "Epoch 244/400\n",
            "1/1 [==============================] - 0s 5ms/step - loss: 2.8394e-19\n",
            "Epoch 245/400\n",
            "1/1 [==============================] - 0s 5ms/step - loss: 4.2111e-18\n",
            "Epoch 246/400\n",
            "1/1 [==============================] - 0s 5ms/step - loss: 3.0405e-18\n",
            "Epoch 247/400\n",
            "1/1 [==============================] - 0s 5ms/step - loss: 5.1913e-19\n",
            "Epoch 248/400\n",
            "1/1 [==============================] - 0s 6ms/step - loss: 3.3848e-18\n",
            "Epoch 249/400\n",
            "1/1 [==============================] - 0s 5ms/step - loss: 1.1437e-18\n",
            "Epoch 250/400\n",
            "1/1 [==============================] - 0s 5ms/step - loss: 2.7256e-19\n",
            "Epoch 251/400\n",
            "1/1 [==============================] - 0s 6ms/step - loss: 3.0277e-18\n",
            "Epoch 252/400\n",
            "1/1 [==============================] - 0s 6ms/step - loss: 8.8045e-19\n",
            "Epoch 253/400\n",
            "1/1 [==============================] - 0s 7ms/step - loss: 6.0151e-19\n",
            "Epoch 254/400\n",
            "1/1 [==============================] - 0s 5ms/step - loss: 2.2011e-18\n",
            "Epoch 255/400\n",
            "1/1 [==============================] - 0s 5ms/step - loss: 6.0151e-19\n",
            "Epoch 256/400\n",
            "1/1 [==============================] - 0s 6ms/step - loss: 8.8045e-19\n",
            "Epoch 257/400\n",
            "1/1 [==============================] - 0s 4ms/step - loss: 1.5265e-18\n",
            "Epoch 258/400\n",
            "1/1 [==============================] - 0s 4ms/step - loss: 2.7294e-19\n",
            "Epoch 259/400\n",
            "1/1 [==============================] - 0s 7ms/step - loss: 5.9959e-19\n",
            "Epoch 260/400\n",
            "1/1 [==============================] - 0s 4ms/step - loss: 1.1460e-18\n",
            "Epoch 261/400\n",
            "1/1 [==============================] - 0s 4ms/step - loss: 6.5101e-20\n",
            "Epoch 262/400\n",
            "1/1 [==============================] - 0s 4ms/step - loss: 2.8020e-19\n",
            "Epoch 263/400\n",
            "1/1 [==============================] - 0s 5ms/step - loss: 8.9435e-19\n",
            "Epoch 264/400\n",
            "1/1 [==============================] - 0s 3ms/step - loss: 2.6031e-20\n",
            "Epoch 265/400\n",
            "1/1 [==============================] - 0s 20ms/step - loss: 5.1913e-19\n",
            "Epoch 266/400\n",
            "1/1 [==============================] - 0s 38ms/step - loss: 5.0731e-19\n",
            "Epoch 267/400\n",
            "1/1 [==============================] - 0s 10ms/step - loss: 2.5547e-20\n",
            "Epoch 268/400\n",
            "1/1 [==============================] - 0s 6ms/step - loss: 8.9702e-19\n",
            "Epoch 269/400\n",
            "1/1 [==============================] - 0s 4ms/step - loss: 2.8129e-19\n",
            "Epoch 270/400\n",
            "1/1 [==============================] - 0s 9ms/step - loss: 5.6040e-20\n",
            "Epoch 271/400\n",
            "1/1 [==============================] - 0s 5ms/step - loss: 1.0129e-18\n",
            "Epoch 272/400\n",
            "1/1 [==============================] - 0s 10ms/step - loss: 5.0374e-19\n",
            "Epoch 273/400\n",
            "1/1 [==============================] - 0s 5ms/step - loss: 2.8190e-19\n",
            "Epoch 274/400\n",
            "1/1 [==============================] - 0s 6ms/step - loss: 9.0211e-19\n",
            "Epoch 275/400\n",
            "1/1 [==============================] - 0s 10ms/step - loss: 2.8383e-19\n",
            "Epoch 276/400\n",
            "1/1 [==============================] - 0s 6ms/step - loss: 5.0296e-19\n",
            "Epoch 277/400\n",
            "1/1 [==============================] - 0s 7ms/step - loss: 5.0303e-19\n",
            "Epoch 278/400\n",
            "1/1 [==============================] - 0s 7ms/step - loss: 5.5541e-20\n",
            "Epoch 279/400\n",
            "1/1 [==============================] - 0s 6ms/step - loss: 2.8383e-19\n",
            "Epoch 280/400\n",
            "1/1 [==============================] - 0s 14ms/step - loss: 2.8383e-19\n",
            "Epoch 281/400\n",
            "1/1 [==============================] - 0s 30ms/step - loss: 2.5547e-20\n",
            "Epoch 282/400\n",
            "1/1 [==============================] - 0s 12ms/step - loss: 5.5556e-20\n",
            "Epoch 283/400\n",
            "1/1 [==============================] - 0s 10ms/step - loss: 5.0364e-19\n",
            "Epoch 284/400\n",
            "1/1 [==============================] - 0s 10ms/step - loss: 5.5556e-20\n",
            "Epoch 285/400\n",
            "1/1 [==============================] - 0s 10ms/step - loss: 2.8182e-19\n",
            "Epoch 286/400\n",
            "1/1 [==============================] - 0s 10ms/step - loss: 2.8182e-19\n",
            "Epoch 287/400\n",
            "1/1 [==============================] - 0s 4ms/step - loss: 2.5411e-20\n",
            "Epoch 288/400\n",
            "1/1 [==============================] - 0s 4ms/step - loss: 5.6040e-20\n",
            "Epoch 289/400\n",
            "1/1 [==============================] - 0s 5ms/step - loss: 5.0630e-19\n",
            "Epoch 290/400\n",
            "1/1 [==============================] - 0s 5ms/step - loss: 5.6040e-20\n",
            "Epoch 291/400\n",
            "1/1 [==============================] - 0s 6ms/step - loss: 2.8129e-19\n",
            "Epoch 292/400\n",
            "1/1 [==============================] - 0s 4ms/step - loss: 2.8129e-19\n",
            "Epoch 293/400\n",
            "1/1 [==============================] - 0s 5ms/step - loss: 2.5592e-20\n",
            "Epoch 294/400\n",
            "1/1 [==============================] - 0s 12ms/step - loss: 5.7719e-20\n",
            "Epoch 295/400\n",
            "1/1 [==============================] - 0s 11ms/step - loss: 5.1893e-19\n",
            "Epoch 296/400\n",
            "1/1 [==============================] - 0s 7ms/step - loss: 5.7719e-20\n",
            "Epoch 297/400\n",
            "1/1 [==============================] - 0s 10ms/step - loss: 2.8103e-19\n",
            "Epoch 298/400\n",
            "1/1 [==============================] - 0s 8ms/step - loss: 2.8103e-19\n",
            "Epoch 299/400\n",
            "1/1 [==============================] - 0s 11ms/step - loss: 2.5668e-20\n",
            "Epoch 300/400\n",
            "1/1 [==============================] - 0s 17ms/step - loss: 6.1728e-20\n",
            "Epoch 301/400\n",
            "1/1 [==============================] - 0s 10ms/step - loss: 5.1913e-19\n",
            "Epoch 302/400\n",
            "1/1 [==============================] - 0s 14ms/step - loss: 5.7719e-20\n",
            "Epoch 303/400\n",
            "1/1 [==============================] - 0s 13ms/step - loss: 2.8103e-19\n",
            "Epoch 304/400\n",
            "1/1 [==============================] - 0s 13ms/step - loss: 2.8103e-19\n",
            "Epoch 305/400\n",
            "1/1 [==============================] - 0s 60ms/step - loss: 2.5592e-20\n",
            "Epoch 306/400\n",
            "1/1 [==============================] - 0s 7ms/step - loss: 5.7855e-20\n",
            "Epoch 307/400\n",
            "1/1 [==============================] - 0s 4ms/step - loss: 5.1893e-19\n",
            "Epoch 308/400\n",
            "1/1 [==============================] - 0s 4ms/step - loss: 5.7114e-20\n",
            "Epoch 309/400\n",
            "1/1 [==============================] - 0s 3ms/step - loss: 2.8128e-19\n",
            "Epoch 310/400\n",
            "1/1 [==============================] - 0s 6ms/step - loss: 2.8128e-19\n",
            "Epoch 311/400\n",
            "1/1 [==============================] - 0s 3ms/step - loss: 2.5592e-20\n",
            "Epoch 312/400\n",
            "1/1 [==============================] - 0s 3ms/step - loss: 5.7719e-20\n",
            "Epoch 313/400\n",
            "1/1 [==============================] - 0s 4ms/step - loss: 5.0731e-19\n",
            "Epoch 314/400\n",
            "1/1 [==============================] - 0s 4ms/step - loss: 5.7008e-20\n",
            "Epoch 315/400\n",
            "1/1 [==============================] - 0s 3ms/step - loss: 2.8129e-19\n",
            "Epoch 316/400\n",
            "1/1 [==============================] - 0s 4ms/step - loss: 2.8129e-19\n",
            "Epoch 317/400\n",
            "1/1 [==============================] - 0s 3ms/step - loss: 2.5592e-20\n",
            "Epoch 318/400\n",
            "1/1 [==============================] - 0s 4ms/step - loss: 5.7114e-20\n",
            "Epoch 319/400\n",
            "1/1 [==============================] - 0s 5ms/step - loss: 5.0731e-19\n",
            "Epoch 320/400\n",
            "1/1 [==============================] - 0s 4ms/step - loss: 5.7008e-20\n",
            "Epoch 321/400\n",
            "1/1 [==============================] - 0s 3ms/step - loss: 2.8129e-19\n",
            "Epoch 322/400\n",
            "1/1 [==============================] - 0s 4ms/step - loss: 2.8129e-19\n",
            "Epoch 323/400\n",
            "1/1 [==============================] - 0s 5ms/step - loss: 2.5592e-20\n",
            "Epoch 324/400\n",
            "1/1 [==============================] - 0s 3ms/step - loss: 5.0715e-19\n",
            "Epoch 325/400\n",
            "1/1 [==============================] - 0s 4ms/step - loss: 5.7008e-20\n",
            "Epoch 326/400\n",
            "1/1 [==============================] - 0s 6ms/step - loss: 2.5547e-20\n",
            "Epoch 327/400\n",
            "1/1 [==============================] - 0s 4ms/step - loss: 2.8128e-19\n",
            "Epoch 328/400\n",
            "1/1 [==============================] - 0s 3ms/step - loss: 2.5547e-20\n",
            "Epoch 329/400\n",
            "1/1 [==============================] - 0s 3ms/step - loss: 5.7008e-20\n",
            "Epoch 330/400\n",
            "1/1 [==============================] - 0s 3ms/step - loss: 5.7114e-20\n",
            "Epoch 331/400\n",
            "1/1 [==============================] - 0s 4ms/step - loss: 5.7008e-20\n",
            "Epoch 332/400\n",
            "1/1 [==============================] - 0s 5ms/step - loss: 2.5547e-20\n",
            "Epoch 333/400\n",
            "1/1 [==============================] - 0s 4ms/step - loss: 2.8128e-19\n",
            "Epoch 334/400\n",
            "1/1 [==============================] - 0s 4ms/step - loss: 2.5592e-20\n",
            "Epoch 335/400\n",
            "1/1 [==============================] - 0s 5ms/step - loss: 5.7719e-20\n",
            "Epoch 336/400\n",
            "1/1 [==============================] - 0s 3ms/step - loss: 5.7855e-20\n",
            "Epoch 337/400\n",
            "1/1 [==============================] - 0s 3ms/step - loss: 5.7719e-20\n",
            "Epoch 338/400\n",
            "1/1 [==============================] - 0s 6ms/step - loss: 2.5668e-20\n",
            "Epoch 339/400\n",
            "1/1 [==============================] - 0s 6ms/step - loss: 2.5592e-20\n",
            "Epoch 340/400\n",
            "1/1 [==============================] - 0s 4ms/step - loss: 2.5592e-20\n",
            "Epoch 341/400\n",
            "1/1 [==============================] - 0s 4ms/step - loss: 2.5592e-20\n",
            "Epoch 342/400\n",
            "1/1 [==============================] - 0s 4ms/step - loss: 2.5668e-20\n",
            "Epoch 343/400\n",
            "1/1 [==============================] - 0s 4ms/step - loss: 5.7719e-20\n",
            "Epoch 344/400\n",
            "1/1 [==============================] - 0s 4ms/step - loss: 5.7719e-20\n",
            "Epoch 345/400\n",
            "1/1 [==============================] - 0s 5ms/step - loss: 2.5592e-20\n",
            "Epoch 346/400\n",
            "1/1 [==============================] - 0s 4ms/step - loss: 2.5592e-20\n",
            "Epoch 347/400\n",
            "1/1 [==============================] - 0s 3ms/step - loss: 2.5592e-20\n",
            "Epoch 348/400\n",
            "1/1 [==============================] - 0s 7ms/step - loss: 2.5592e-20\n",
            "Epoch 349/400\n",
            "1/1 [==============================] - 0s 5ms/step - loss: 2.5668e-20\n",
            "Epoch 350/400\n",
            "1/1 [==============================] - 0s 5ms/step - loss: 5.7719e-20\n",
            "Epoch 351/400\n",
            "1/1 [==============================] - 0s 5ms/step - loss: 5.7719e-20\n",
            "Epoch 352/400\n",
            "1/1 [==============================] - 0s 5ms/step - loss: 2.5668e-20\n",
            "Epoch 353/400\n",
            "1/1 [==============================] - 0s 6ms/step - loss: 2.5592e-20\n",
            "Epoch 354/400\n",
            "1/1 [==============================] - 0s 3ms/step - loss: 2.5592e-20\n",
            "Epoch 355/400\n",
            "1/1 [==============================] - 0s 3ms/step - loss: 2.5668e-20\n",
            "Epoch 356/400\n",
            "1/1 [==============================] - 0s 26ms/step - loss: 5.7719e-20\n",
            "Epoch 357/400\n",
            "1/1 [==============================] - 0s 8ms/step - loss: 5.7719e-20\n",
            "Epoch 358/400\n",
            "1/1 [==============================] - 0s 9ms/step - loss: 2.5592e-20\n",
            "Epoch 359/400\n",
            "1/1 [==============================] - 0s 8ms/step - loss: 2.5592e-20\n",
            "Epoch 360/400\n",
            "1/1 [==============================] - 0s 5ms/step - loss: 2.5592e-20\n",
            "Epoch 361/400\n",
            "1/1 [==============================] - 0s 5ms/step - loss: 2.5592e-20\n",
            "Epoch 362/400\n",
            "1/1 [==============================] - 0s 5ms/step - loss: 2.5592e-20\n",
            "Epoch 363/400\n",
            "1/1 [==============================] - 0s 4ms/step - loss: 5.7719e-20\n",
            "Epoch 364/400\n",
            "1/1 [==============================] - 0s 3ms/step - loss: 5.7719e-20\n",
            "Epoch 365/400\n",
            "1/1 [==============================] - 0s 4ms/step - loss: 2.5592e-20\n",
            "Epoch 366/400\n",
            "1/1 [==============================] - 0s 4ms/step - loss: 2.5592e-20\n",
            "Epoch 367/400\n",
            "1/1 [==============================] - 0s 4ms/step - loss: 2.5592e-20\n",
            "Epoch 368/400\n",
            "1/1 [==============================] - 0s 9ms/step - loss: 2.5592e-20\n",
            "Epoch 369/400\n",
            "1/1 [==============================] - 0s 6ms/step - loss: 2.5668e-20\n",
            "Epoch 370/400\n",
            "1/1 [==============================] - 0s 8ms/step - loss: 5.7855e-20\n",
            "Epoch 371/400\n",
            "1/1 [==============================] - 0s 11ms/step - loss: 5.7855e-20\n",
            "Epoch 372/400\n",
            "1/1 [==============================] - 0s 11ms/step - loss: 2.6031e-20\n",
            "Epoch 373/400\n",
            "1/1 [==============================] - 0s 7ms/step - loss: 2.5668e-20\n",
            "Epoch 374/400\n",
            "1/1 [==============================] - 0s 13ms/step - loss: 2.5668e-20\n",
            "Epoch 375/400\n",
            "1/1 [==============================] - 0s 8ms/step - loss: 2.6031e-20\n",
            "Epoch 376/400\n",
            "1/1 [==============================] - 0s 12ms/step - loss: 5.7855e-20\n",
            "Epoch 377/400\n",
            "1/1 [==============================] - 0s 16ms/step - loss: 5.7719e-20\n",
            "Epoch 378/400\n",
            "1/1 [==============================] - 0s 5ms/step - loss: 2.5668e-20\n",
            "Epoch 379/400\n",
            "1/1 [==============================] - 0s 7ms/step - loss: 2.5592e-20\n",
            "Epoch 380/400\n",
            "1/1 [==============================] - 0s 7ms/step - loss: 2.5592e-20\n",
            "Epoch 381/400\n",
            "1/1 [==============================] - 0s 4ms/step - loss: 2.5592e-20\n",
            "Epoch 382/400\n",
            "1/1 [==============================] - 0s 4ms/step - loss: 2.5592e-20\n",
            "Epoch 383/400\n",
            "1/1 [==============================] - 0s 5ms/step - loss: 5.7719e-20\n",
            "Epoch 384/400\n",
            "1/1 [==============================] - 0s 14ms/step - loss: 5.7719e-20\n",
            "Epoch 385/400\n",
            "1/1 [==============================] - 0s 10ms/step - loss: 2.5592e-20\n",
            "Epoch 386/400\n",
            "1/1 [==============================] - 0s 4ms/step - loss: 2.5592e-20\n",
            "Epoch 387/400\n",
            "1/1 [==============================] - 0s 4ms/step - loss: 2.5592e-20\n",
            "Epoch 388/400\n",
            "1/1 [==============================] - 0s 4ms/step - loss: 2.5592e-20\n",
            "Epoch 389/400\n",
            "1/1 [==============================] - 0s 4ms/step - loss: 5.7114e-20\n",
            "Epoch 390/400\n",
            "1/1 [==============================] - 0s 35ms/step - loss: 5.7114e-20\n",
            "Epoch 391/400\n",
            "1/1 [==============================] - 0s 8ms/step - loss: 2.5592e-20\n",
            "Epoch 392/400\n",
            "1/1 [==============================] - 0s 4ms/step - loss: 2.5547e-20\n",
            "Epoch 393/400\n",
            "1/1 [==============================] - 0s 6ms/step - loss: 2.5547e-20\n",
            "Epoch 394/400\n",
            "1/1 [==============================] - 0s 6ms/step - loss: 2.5592e-20\n",
            "Epoch 395/400\n",
            "1/1 [==============================] - 0s 13ms/step - loss: 2.5592e-20\n",
            "Epoch 396/400\n",
            "1/1 [==============================] - 0s 23ms/step - loss: 5.7719e-20\n",
            "Epoch 397/400\n",
            "1/1 [==============================] - 0s 8ms/step - loss: 5.7719e-20\n",
            "Epoch 398/400\n",
            "1/1 [==============================] - 0s 10ms/step - loss: 2.5668e-20\n",
            "Epoch 399/400\n",
            "1/1 [==============================] - 0s 5ms/step - loss: 2.5592e-20\n",
            "Epoch 400/400\n",
            "1/1 [==============================] - 0s 4ms/step - loss: 2.5592e-20\n"
          ]
        }
      ]
    },
    {
      "cell_type": "code",
      "metadata": {
        "colab": {
          "base_uri": "https://localhost:8080/",
          "height": 295
        },
        "id": "JFei6TTFYfG2",
        "outputId": "dc44231f-e1cd-4db6-96cd-77d2c851b47d"
      },
      "source": [
        "plt.plot(epocas.history[\"loss\"])\n",
        "plt.title(\"Progreso del aprendizaje\")\n",
        "plt.xlabel(\"Epocas\")\n",
        "plt.ylabel(\"Error de aprendizaje\")\n",
        "plt.legend(\"Aprendizaje\")\n",
        "plt.show()"
      ],
      "execution_count": null,
      "outputs": [
        {
          "output_type": "display_data",
          "data": {
            "image/png": "[encoded data removed]",
            "text/plain": [
              "<Figure size 432x288 with 1 Axes>"
            ]
          },
          "metadata": {
            "needs_background": "light"
          }
        }
      ]
    },
    {
      "cell_type": "code",
      "metadata": {
        "colab": {
          "base_uri": "https://localhost:8080/"
        },
        "id": "1au9cgU9Ygn8",
        "outputId": "c592ff15-c1bd-4e40-b692-8752ef66d10f"
      },
      "source": [
        "f = modelo.predict([68])\n",
        "print(f)"
      ],
      "execution_count": null,
      "outputs": [
        {
          "output_type": "stream",
          "name": "stdout",
          "text": [
            "[[0.0085]]\n"
          ]
        }
      ]
    },
    {
      "cell_type": "code",
      "metadata": {
        "colab": {
          "base_uri": "https://localhost:8080/",
          "height": 334
        },
        "id": "xyWNLSxcbHiE",
        "outputId": "52db9b21-75fe-4a5a-dd0e-44eb1e3411c9"
      },
      "source": [
        "Area = pd.read_csv(\"/content/Area.csv\", sep=\";\")\n",
        "\n",
        "sns.scatterplot(Area[\"kilometro cuadrado\"], Area[\"hectarea\"])\n",
        "plt.show()"
      ],
      "execution_count": null,
      "outputs": [
        {
          "output_type": "stream",
          "name": "stderr",
          "text": [
            "/usr/local/lib/python3.7/dist-packages/seaborn/_decorators.py:43: FutureWarning: Pass the following variables as keyword args: x, y. From version 0.12, the only valid positional argument will be `data`, and passing other arguments without an explicit keyword will result in an error or misinterpretation.\n",
            "  FutureWarning\n"
          ]
        },
        {
          "output_type": "display_data",
          "data": {
            "image/png": "[encoded data removed]",
            "text/plain": [
              "<Figure size 432x288 with 1 Axes>"
            ]
          },
          "metadata": {
            "needs_background": "light"
          }
        }
      ]
    },
    {
      "cell_type": "code",
      "metadata": {
        "id": "GLbbPuwKd3Br"
      },
      "source": [
        "kilometrocuadrado = Area[\"kilometro cuadrado\"]\n",
        "hectarea = Area[\"hectarea\"]"
      ],
      "execution_count": null,
      "outputs": []
    },
    {
      "cell_type": "code",
      "metadata": {
        "id": "Ao0TCSGAfWOT"
      },
      "source": [
        "modelo = tf.keras.Sequential()\n",
        "modelo.add(tf.keras.layers.Dense(units=1, input_shape=[1]))"
      ],
      "execution_count": null,
      "outputs": []
    },
    {
      "cell_type": "code",
      "metadata": {
        "id": "Ha7ntPR7fdex"
      },
      "source": [
        "modelo.compile(optimizer=tf.keras.optimizers.Adam(1),loss='mean_squared_error')"
      ],
      "execution_count": null,
      "outputs": []
    },
    {
      "cell_type": "code",
      "metadata": {
        "id": "eWTpjWbmfqyi"
      },
      "source": [
        "epocas = modelo.fit(kilometrocuadrado, hectarea, epochs=1190, verbose=0)"
      ],
      "execution_count": null,
      "outputs": []
    },
    {
      "cell_type": "code",
      "metadata": {
        "colab": {
          "base_uri": "https://localhost:8080/",
          "height": 295
        },
        "id": "NUXwNLuXga8U",
        "outputId": "3f5c63dc-7a0a-4e9b-955e-a4807482deaa"
      },
      "source": [
        "plt.plot(epocas.history[\"loss\"])\n",
        "plt.title(\"Progreso del aprendizaje\")\n",
        "plt.xlabel(\"Epocas\")\n",
        "plt.ylabel(\"Error de aprendizaje\")\n",
        "plt.legend(\"Aprendizaje\")\n",
        "plt.show()"
      ],
      "execution_count": null,
      "outputs": [
        {
          "output_type": "display_data",
          "data": {
            "image/png": "[encoded data removed]",
            "text/plain": [
              "<Figure size 432x288 with 1 Axes>"
            ]
          },
          "metadata": {
            "needs_background": "light"
          }
        }
      ]
    },
    {
      "cell_type": "code",
      "metadata": {
        "colab": {
          "base_uri": "https://localhost:8080/"
        },
        "id": "PnpWDBwngb-m",
        "outputId": "33ea6dbe-707f-4cf4-df14-bc591be082e2"
      },
      "source": [
        "f = modelo.predict([78])\n",
        "print(f)"
      ],
      "execution_count": null,
      "outputs": [
        {
          "output_type": "stream",
          "name": "stdout",
          "text": [
            "[[7800.]]\n"
          ]
        }
      ]
    },
    {
      "cell_type": "markdown",
      "metadata": {
        "id": "zKBXffrw5c56"
      },
      "source": [
        "Segunda parte de los ejercicios de Almacenamiento\n"
      ]
    },
    {
      "cell_type": "code",
      "metadata": {
        "id": "ElclP9r7x-5l"
      },
      "source": [
        "import tensorflow as tf\n",
        "import pandas as pd\n",
        "import matplotlib.pyplot as plt\n",
        "import seaborn as sns "
      ],
      "execution_count": 6,
      "outputs": []
    },
    {
      "cell_type": "code",
      "metadata": {
        "id": "EE0TFVEy3Vz8",
        "outputId": "d4291a9e-e3f4-47f7-8adc-7e98659f5308",
        "colab": {
          "base_uri": "https://localhost:8080/",
          "height": 334
        }
      },
      "source": [
        "Almacenamiento2 = pd.read_csv(\"/content/Almacenamiento2.csv\", sep=\";\")\n",
        "\n",
        "sns.scatterplot(Almacenamiento2[\"megabit\"], Almacenamiento2[\"gigabit\"])\n",
        "plt.show()"
      ],
      "execution_count": 7,
      "outputs": [
        {
          "output_type": "stream",
          "name": "stderr",
          "text": [
            "/usr/local/lib/python3.7/dist-packages/seaborn/_decorators.py:43: FutureWarning: Pass the following variables as keyword args: x, y. From version 0.12, the only valid positional argument will be `data`, and passing other arguments without an explicit keyword will result in an error or misinterpretation.\n",
            "  FutureWarning\n"
          ]
        },
        {
          "output_type": "display_data",
          "data": {
            "image/png": "[encoded data removed]",
            "text/plain": [
              "<Figure size 432x288 with 1 Axes>"
            ]
          },
          "metadata": {
            "needs_background": "light"
          }
        }
      ]
    },
    {
      "cell_type": "code",
      "metadata": {
        "id": "Xpt1bJ3o4tAW"
      },
      "source": [
        "megabit = Almacenamiento2[\"megabit\"]\n",
        "gigabit= Almacenamiento2[\"gigabit\"]"
      ],
      "execution_count": 11,
      "outputs": []
    },
    {
      "cell_type": "code",
      "metadata": {
        "id": "9EFkWCc25F8K"
      },
      "source": [
        "modelo = tf.keras.Sequential()\n",
        "modelo.add(tf.keras.layers.Dense(units=1, input_shape=[1]))"
      ],
      "execution_count": 12,
      "outputs": []
    },
    {
      "cell_type": "code",
      "metadata": {
        "id": "-dW6fbom5UPF"
      },
      "source": [
        "modelo.compile(optimizer=tf.keras.optimizers.Adam(1),loss='mean_squared_error')"
      ],
      "execution_count": 13,
      "outputs": []
    },
    {
      "cell_type": "code",
      "metadata": {
        "id": "x-0MGSxD5aXe"
      },
      "source": [
        "epocas = modelo.fit(megabit, gigabit, epochs=600, verbose=0)"
      ],
      "execution_count": 17,
      "outputs": []
    },
    {
      "cell_type": "code",
      "metadata": {
        "id": "GFObtZhB6eZV",
        "outputId": "79fc51d4-922a-4562-c2da-66d713e24713",
        "colab": {
          "base_uri": "https://localhost:8080/",
          "height": 295
        }
      },
      "source": [
        "plt.plot(epocas.history[\"loss\"])\n",
        "plt.title(\"Progreso del aprendizaje\")\n",
        "plt.xlabel(\"Epocas\")\n",
        "plt.ylabel(\"Error de aprendizaje\")\n",
        "plt.legend(\"Aprendizaje\")\n",
        "plt.show()"
      ],
      "execution_count": 15,
      "outputs": [
        {
          "output_type": "display_data",
          "data": {
            "image/png": "[encoded data removed]",
            "text/plain": [
              "<Figure size 432x288 with 1 Axes>"
            ]
          },
          "metadata": {
            "needs_background": "light"
          }
        }
      ]
    },
    {
      "cell_type": "code",
      "metadata": {
        "id": "86i6iIOc6iE1",
        "outputId": "9716ba2d-4a54-437b-c0a3-fd82e7e7401c",
        "colab": {
          "base_uri": "https://localhost:8080/"
        }
      },
      "source": [
        "f = modelo.predict([70])\n",
        "print(f)"
      ],
      "execution_count": 21,
      "outputs": [
        {
          "output_type": "stream",
          "name": "stdout",
          "text": [
            "[[0.07]]\n"
          ]
        }
      ]
    },
    {
      "cell_type": "code",
      "metadata": {
        "id": "0HIlN99P7_y6",
        "outputId": "807a9a67-9995-4f1f-f48e-f7e10bb50aed",
        "colab": {
          "base_uri": "https://localhost:8080/",
          "height": 334
        }
      },
      "source": [
        "Almacenamiento3 = pd.read_csv(\"/content/Almacenamiento3.csv\", sep=\";\")\n",
        "\n",
        "sns.scatterplot(Almacenamiento3[\"terabit\"], Almacenamiento3[\"terabyte\"])\n",
        "plt.show()"
      ],
      "execution_count": 22,
      "outputs": [
        {
          "output_type": "stream",
          "name": "stderr",
          "text": [
            "/usr/local/lib/python3.7/dist-packages/seaborn/_decorators.py:43: FutureWarning: Pass the following variables as keyword args: x, y. From version 0.12, the only valid positional argument will be `data`, and passing other arguments without an explicit keyword will result in an error or misinterpretation.\n",
            "  FutureWarning\n"
          ]
        },
        {
          "output_type": "display_data",
          "data": {
            "image/png": "[encoded data removed]",
            "text/plain": [
              "<Figure size 432x288 with 1 Axes>"
            ]
          },
          "metadata": {
            "needs_background": "light"
          }
        }
      ]
    },
    {
      "cell_type": "code",
      "metadata": {
        "id": "B6tgKBKb-_yT"
      },
      "source": [
        "terabit = Almacenamiento3[\"terabit\"]\n",
        "terabyte = Almacenamiento3[\"terabyte\"]"
      ],
      "execution_count": 23,
      "outputs": []
    },
    {
      "cell_type": "code",
      "metadata": {
        "id": "uaSsII0R_QYk"
      },
      "source": [
        "modelo = tf.keras.Sequential()\n",
        "modelo.add(tf.keras.layers.Dense(units=1, input_shape=[1]))"
      ],
      "execution_count": 24,
      "outputs": []
    },
    {
      "cell_type": "code",
      "metadata": {
        "id": "1eXCXoTJ_YAU"
      },
      "source": [
        "modelo.compile(optimizer=tf.keras.optimizers.Adam(1),loss='mean_squared_error')"
      ],
      "execution_count": 25,
      "outputs": []
    },
    {
      "cell_type": "code",
      "metadata": {
        "id": "aRr79Vny_cwE"
      },
      "source": [
        "epocas = modelo.fit(terabit, terabyte, epochs=300, verbose=0)"
      ],
      "execution_count": 39,
      "outputs": []
    },
    {
      "cell_type": "code",
      "metadata": {
        "id": "pZE4D-SW_gwE",
        "outputId": "7e786d5a-f998-475a-f400-872ded24c879",
        "colab": {
          "base_uri": "https://localhost:8080/",
          "height": 295
        }
      },
      "source": [
        "plt.plot(epocas.history[\"loss\"])\n",
        "plt.title(\"Progreso del aprendizaje\")\n",
        "plt.xlabel(\"Epocas\")\n",
        "plt.ylabel(\"Error de aprendizaje\")\n",
        "plt.legend(\"Aprendizaje\")\n",
        "plt.show()"
      ],
      "execution_count": 40,
      "outputs": [
        {
          "output_type": "display_data",
          "data": {
            "image/png": "[encoded data removed]",
            "text/plain": [
              "<Figure size 432x288 with 1 Axes>"
            ]
          },
          "metadata": {
            "needs_background": "light"
          }
        }
      ]
    },
    {
      "cell_type": "code",
      "metadata": {
        "id": "ciiLYm-H_kg8",
        "outputId": "923136b3-b946-4a62-f668-94fe32ef0df7",
        "colab": {
          "base_uri": "https://localhost:8080/"
        }
      },
      "source": [
        "f = modelo.predict([75])\n",
        "print(f)"
      ],
      "execution_count": 44,
      "outputs": [
        {
          "output_type": "stream",
          "name": "stdout",
          "text": [
            "[[9.375]]\n"
          ]
        }
      ]
    },
    {
      "cell_type": "code",
      "metadata": {
        "id": "fJNTLqC8Bheb",
        "outputId": "f1cd52eb-105b-4951-a4fa-1d56d7e491f4",
        "colab": {
          "base_uri": "https://localhost:8080/",
          "height": 334
        }
      },
      "source": [
        "Almacenamiento4 = pd.read_csv(\"/content/Almacenamiento4.csv\", sep=\";\")\n",
        "\n",
        "sns.scatterplot(Almacenamiento4[\"petabit\"], Almacenamiento4[\"tebibyte\"])\n",
        "plt.show()"
      ],
      "execution_count": 45,
      "outputs": [
        {
          "output_type": "stream",
          "name": "stderr",
          "text": [
            "/usr/local/lib/python3.7/dist-packages/seaborn/_decorators.py:43: FutureWarning: Pass the following variables as keyword args: x, y. From version 0.12, the only valid positional argument will be `data`, and passing other arguments without an explicit keyword will result in an error or misinterpretation.\n",
            "  FutureWarning\n"
          ]
        },
        {
          "output_type": "display_data",
          "data": {
            "image/png": "[encoded data removed]",
            "text/plain": [
              "<Figure size 432x288 with 1 Axes>"
            ]
          },
          "metadata": {
            "needs_background": "light"
          }
        }
      ]
    },
    {
      "cell_type": "code",
      "metadata": {
        "id": "lwpFWFyaF54n"
      },
      "source": [
        "petabit = Almacenamiento4[\"petabit\"]\n",
        "tebibyte = Almacenamiento4[\"tebibyte\"]"
      ],
      "execution_count": 46,
      "outputs": []
    },
    {
      "cell_type": "code",
      "metadata": {
        "id": "V61P3w_CGWKa"
      },
      "source": [
        "modelo = tf.keras.Sequential()\n",
        "modelo.add(tf.keras.layers.Dense(units=1, input_shape=[1]))"
      ],
      "execution_count": 47,
      "outputs": []
    },
    {
      "cell_type": "code",
      "metadata": {
        "id": "9EHDh86RGbHR"
      },
      "source": [
        "modelo.compile(optimizer=tf.keras.optimizers.Adam(1),loss='mean_squared_error')"
      ],
      "execution_count": 48,
      "outputs": []
    },
    {
      "cell_type": "code",
      "metadata": {
        "id": "iEx7riS7GgvN"
      },
      "source": [
        "epocas = modelo.fit(petabit, tebibyte, epochs=2500, verbose=0)"
      ],
      "execution_count": 114,
      "outputs": []
    },
    {
      "cell_type": "code",
      "metadata": {
        "id": "l9O2xkHQGvKL",
        "outputId": "3d02eb2d-2423-442d-b878-8bf5576a0f6b",
        "colab": {
          "base_uri": "https://localhost:8080/",
          "height": 295
        }
      },
      "source": [
        "plt.plot(epocas.history[\"loss\"])\n",
        "plt.title(\"Progreso del aprendizaje\")\n",
        "plt.xlabel(\"Epocas\")\n",
        "plt.ylabel(\"Error de aprendizaje\")\n",
        "plt.legend(\"Aprendizaje\")\n",
        "plt.show()"
      ],
      "execution_count": 115,
      "outputs": [
        {
          "output_type": "display_data",
          "data": {
            "image/png": "[encoded data removed]",
            "text/plain": [
              "<Figure size 432x288 with 1 Axes>"
            ]
          },
          "metadata": {
            "needs_background": "light"
          }
        }
      ]
    },
    {
      "cell_type": "code",
      "metadata": {
        "id": "cXj_uEvJGwTD",
        "outputId": "b1cdce21-d8b9-40ba-ddb0-d8e663923405",
        "colab": {
          "base_uri": "https://localhost:8080/"
        }
      },
      "source": [
        "f = modelo.predict([10])\n",
        "print(f)"
      ],
      "execution_count": 117,
      "outputs": [
        {
          "output_type": "stream",
          "name": "stdout",
          "text": [
            "[[1136.8679]]\n"
          ]
        }
      ]
    }
  ]
}