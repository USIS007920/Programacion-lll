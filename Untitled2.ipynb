{
  "nbformat": 4,
  "nbformat_minor": 0,
  "metadata": {
    "colab": {
      "name": "Untitled2.ipynb",
      "provenance": [],
      "authorship_tag": "ABX9TyO+7cqm8if5q8HEwC/nJ5N6",
      "include_colab_link": true
    },
    "kernelspec": {
      "name": "python3",
      "display_name": "Python 3"
    },
    "language_info": {
      "name": "python"
    }
  },
  "cells": [
    {
      "cell_type": "markdown",
      "metadata": {
        "id": "view-in-github",
        "colab_type": "text"
      },
      "source": [
        "<a href=\"https://colab.research.google.com/github/USIS007920/Programacion-lll/blob/Ejercicios/Untitled2.ipynb\" target=\"_parent\"><img src=\"https://colab.research.google.com/assets/colab-badge.svg\" alt=\"Open In Colab\"/></a>"
      ]
    },
    {
      "cell_type": "code",
      "metadata": {
        "id": "AxJl7B_-QiCb"
      },
      "source": [
        "import pandas as pd\n",
        "Lenguajes = pd.Series([\n",
        "                    \"C#\",\n",
        "                    \"VD\",\n",
        "                    \"PHP\",\n",
        "                    \"HTML\",\n",
        "                    \"JS\",\n",
        "                    \"CSS\",\n",
        "                    \"JAVA\",\n",
        "                    \"XML\",\n",
        "                    \"Python\"],\n",
        "                    index=[2,1,4,5,6,9,3,8,10])\n",
        "print(lLenguajes)\n",
        "\n",
        "diccionariolenguajes = {\n",
        "    2: \"C#\",\n",
        "    1: \"VB\",\n",
        "    4: \"PHP\",\n",
        "    5: \"HTML\",\n",
        "    6: \"JS\",\n",
        "    9: \"CSS\",\n",
        "    3: \"JAVA\",\n",
        "    8: \"XML\",\n",
        "    10: \"Python\"\n",
        "\n",
        "}\n",
        "pdLenguajes = pd.Series(diccionarioLenguajes)\n",
        "print(pdLenguajes)\n",
        "\n",
        "for i in range(30,2000):\n",
        "  pdLenguajes[i] = \"Lenguaje favorito \"+ str(i)\n",
        "  print(pdLenguajes)"
      ],
      "execution_count": null,
      "outputs": []
    },
    {
      "cell_type": "code",
      "metadata": {
        "colab": {
          "base_uri": "https://localhost:8080/",
          "height": 435
        },
        "id": "3ilNzkrTbG2W",
        "outputId": "ed77b0bb-73b3-4258-cf4d-f37203fe4024"
      },
      "source": [
        "import pandas as pd\n",
        "import matplotlib.pyplot as plt\n",
        "\n",
        "archivo = pd.read_csv(\"/content/Notas.csv\", sep=\";\", encoding=\"utf-8\")\n",
        "#print(archivo, archivo[\"nota\"])\n",
        "\n",
        "\n",
        "proceso = pd.crosstab(index=archivo[\"nota\"],columns=\"frecuencia\")\n",
        "print(proceso)\n",
        "\n",
        "sobresalientes = proceso.loc[proceso.index>=9][\"frecuencia\"].sum()\n",
        "print(sobresalientes)\n",
        "\n",
        "plt.pie(proceso, labels=proceso.index)\n",
        "plt.xlabel(\"Estudiantes sobresalientes\")\n",
        "plt.show() "
      ],
      "execution_count": 14,
      "outputs": [
        {
          "output_type": "stream",
          "name": "stdout",
          "text": [
            "col_0  frecuencia\n",
            "nota             \n",
            "6.0             1\n",
            "9.0             3\n",
            "9.5             1\n",
            "10.0            4\n",
            "8\n"
          ]
        },
        {
          "output_type": "stream",
          "name": "stderr",
          "text": [
            "/usr/local/lib/python3.7/dist-packages/ipykernel_launcher.py:14: MatplotlibDeprecationWarning: Non-1D inputs to pie() are currently squeeze()d, but this behavior is deprecated since 3.1 and will be removed in 3.3; pass a 1D array instead.\n",
            "  \n"
          ]
        },
        {
          "output_type": "display_data",
          "data": {
            "image/png": "[encoded data removed]",
            "text/plain": [
              "<Figure size 432x288 with 1 Axes>"
            ]
          },
          "metadata": {}
        }
      ]
    }
  ]
}