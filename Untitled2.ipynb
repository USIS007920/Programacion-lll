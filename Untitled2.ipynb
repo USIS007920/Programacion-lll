{
  "nbformat": 4,
  "nbformat_minor": 0,
  "metadata": {
    "colab": {
      "name": "Untitled2.ipynb",
      "provenance": [],
      "mount_file_id": "https://github.com/USIS007920/Programacion-lll/blob/Ejercicios/Untitled2.ipynb",
      "authorship_tag": "ABX9TyMqqKcGIXiaI5aSKHpwHm1M",
      "include_colab_link": true
    },
    "kernelspec": {
      "name": "python3",
      "display_name": "Python 3"
    },
    "language_info": {
      "name": "python"
    }
  },
  "cells": [
    {
      "cell_type": "markdown",
      "metadata": {
        "id": "view-in-github",
        "colab_type": "text"
      },
      "source": [
        "<a href=\"https://colab.research.google.com/github/USIS007920/Programacion-lll/blob/Ejercicios-de-Clase/Untitled2.ipynb\" target=\"_parent\"><img src=\"https://colab.research.google.com/assets/colab-badge.svg\" alt=\"Open In Colab\"/></a>"
      ]
    },
    {
      "cell_type": "code",
      "metadata": {
        "id": "AxJl7B_-QiCb"
      },
      "source": [
        "import pandas as pd\n",
        "Lenguajes = pd.Series([\n",
        "                    \"C#\",\n",
        "                    \"VD\",\n",
        "                    \"PHP\",\n",
        "                    \"HTML\",\n",
        "                    \"JS\",\n",
        "                    \"CSS\",\n",
        "                    \"JAVA\",\n",
        "                    \"XML\",\n",
        "                    \"Python\"],\n",
        "                    index=[2,1,4,5,6,9,3,8,10])\n",
        "print(lLenguajes)\n",
        "\n",
        "diccionariolenguajes = {\n",
        "    2: \"C#\",\n",
        "    1: \"VB\",\n",
        "    4: \"PHP\",\n",
        "    5: \"HTML\",\n",
        "    6: \"JS\",\n",
        "    9: \"CSS\",\n",
        "    3: \"JAVA\",\n",
        "    8: \"XML\",\n",
        "    10: \"Python\"\n",
        "\n",
        "}\n",
        "pdLenguajes = pd.Series(diccionarioLenguajes)\n",
        "print(pdLenguajes)\n",
        "\n",
        "for i in range(30,2000):\n",
        "  pdLenguajes[i] = \"Lenguaje favorito \"+ str(i)\n",
        "  print(pdLenguajes)"
      ],
      "execution_count": null,
      "outputs": []
    },
    {
      "cell_type": "code",
      "metadata": {
        "colab": {
          "base_uri": "https://localhost:8080/",
          "height": 561
        },
        "id": "3ilNzkrTbG2W",
        "outputId": "aff03fcc-db25-41a6-a40c-cfc29b600318"
      },
      "source": [
        "import pandas as pd\n",
        "import matplotlib.pyplot as plt\n",
        "\n",
        "archivo = pd.read_csv(\"/content/notas.csv\", sep=\";\", encoding=\"utf-8\") \n",
        "#print(archivo, archivo[\"nota\"])\n",
        "\n",
        "\n",
        "proceso = pd.crosstab(index=archivo[\"notas\"],columns=\"frecuencia\")\n",
        "#print(proceso)\n",
        "\n",
        "sobresalientes = proceso.loc[proceso.index>6][\"frecuencia\"].sum()\n",
        "print(sobresalientes)\n",
        "plt.pie(sobresalientes, labels=sobresalientes.index)\n",
        "plt.xlabel(\"Estudiantes que pasaron\")\n",
        "plt.show()\n",
        "\n",
        "grupoNotas = archivo.groupby([\"notas\"]).agg({\"sum\"})\n",
        "print(grupoNotas)\n",
        "grupoNotas.to_csv(\"/content/grupoNotas.csv\", sep=\";\")\n",
        "\n",
        "\n",
        "#plt.pie(proceso, labels=proceso.index)\n",
        "#plt.xlabel(\"Estudiantes sobresalientes\")\n",
        "#plt.show() "
      ],
      "execution_count": null,
      "outputs": [
        {
          "output_type": "error",
          "ename": "KeyError",
          "evalue": "ignored",
          "traceback": [
            "\u001b[0;31m---------------------------------------------------------------------------\u001b[0m",
            "\u001b[0;31mKeyError\u001b[0m                                  Traceback (most recent call last)",
            "\u001b[0;32m/usr/local/lib/python3.7/dist-packages/pandas/core/indexes/base.py\u001b[0m in \u001b[0;36mget_loc\u001b[0;34m(self, key, method, tolerance)\u001b[0m\n\u001b[1;32m   2897\u001b[0m             \u001b[0;32mtry\u001b[0m\u001b[0;34m:\u001b[0m\u001b[0;34m\u001b[0m\u001b[0;34m\u001b[0m\u001b[0m\n\u001b[0;32m-> 2898\u001b[0;31m                 \u001b[0;32mreturn\u001b[0m \u001b[0mself\u001b[0m\u001b[0;34m.\u001b[0m\u001b[0m_engine\u001b[0m\u001b[0;34m.\u001b[0m\u001b[0mget_loc\u001b[0m\u001b[0;34m(\u001b[0m\u001b[0mcasted_key\u001b[0m\u001b[0;34m)\u001b[0m\u001b[0;34m\u001b[0m\u001b[0;34m\u001b[0m\u001b[0m\n\u001b[0m\u001b[1;32m   2899\u001b[0m             \u001b[0;32mexcept\u001b[0m \u001b[0mKeyError\u001b[0m \u001b[0;32mas\u001b[0m \u001b[0merr\u001b[0m\u001b[0;34m:\u001b[0m\u001b[0;34m\u001b[0m\u001b[0;34m\u001b[0m\u001b[0m\n",
            "\u001b[0;32mpandas/_libs/index.pyx\u001b[0m in \u001b[0;36mpandas._libs.index.IndexEngine.get_loc\u001b[0;34m()\u001b[0m\n",
            "\u001b[0;32mpandas/_libs/index.pyx\u001b[0m in \u001b[0;36mpandas._libs.index.IndexEngine.get_loc\u001b[0;34m()\u001b[0m\n",
            "\u001b[0;32mpandas/_libs/hashtable_class_helper.pxi\u001b[0m in \u001b[0;36mpandas._libs.hashtable.PyObjectHashTable.get_item\u001b[0;34m()\u001b[0m\n",
            "\u001b[0;32mpandas/_libs/hashtable_class_helper.pxi\u001b[0m in \u001b[0;36mpandas._libs.hashtable.PyObjectHashTable.get_item\u001b[0;34m()\u001b[0m\n",
            "\u001b[0;31mKeyError\u001b[0m: 'notas'",
            "\nThe above exception was the direct cause of the following exception:\n",
            "\u001b[0;31mKeyError\u001b[0m                                  Traceback (most recent call last)",
            "\u001b[0;32m<ipython-input-9-d855a57eec89>\u001b[0m in \u001b[0;36m<module>\u001b[0;34m()\u001b[0m\n\u001b[1;32m      6\u001b[0m \u001b[0;34m\u001b[0m\u001b[0m\n\u001b[1;32m      7\u001b[0m \u001b[0;34m\u001b[0m\u001b[0m\n\u001b[0;32m----> 8\u001b[0;31m \u001b[0mproceso\u001b[0m \u001b[0;34m=\u001b[0m \u001b[0mpd\u001b[0m\u001b[0;34m.\u001b[0m\u001b[0mcrosstab\u001b[0m\u001b[0;34m(\u001b[0m\u001b[0mindex\u001b[0m\u001b[0;34m=\u001b[0m\u001b[0marchivo\u001b[0m\u001b[0;34m[\u001b[0m\u001b[0;34m\"notas\"\u001b[0m\u001b[0;34m]\u001b[0m\u001b[0;34m,\u001b[0m\u001b[0mcolumns\u001b[0m\u001b[0;34m=\u001b[0m\u001b[0;34m\"frecuencia\"\u001b[0m\u001b[0;34m)\u001b[0m\u001b[0;34m\u001b[0m\u001b[0;34m\u001b[0m\u001b[0m\n\u001b[0m\u001b[1;32m      9\u001b[0m \u001b[0;31m#print(proceso)\u001b[0m\u001b[0;34m\u001b[0m\u001b[0;34m\u001b[0m\u001b[0;34m\u001b[0m\u001b[0m\n\u001b[1;32m     10\u001b[0m \u001b[0;34m\u001b[0m\u001b[0m\n",
            "\u001b[0;32m/usr/local/lib/python3.7/dist-packages/pandas/core/frame.py\u001b[0m in \u001b[0;36m__getitem__\u001b[0;34m(self, key)\u001b[0m\n\u001b[1;32m   2904\u001b[0m             \u001b[0;32mif\u001b[0m \u001b[0mself\u001b[0m\u001b[0;34m.\u001b[0m\u001b[0mcolumns\u001b[0m\u001b[0;34m.\u001b[0m\u001b[0mnlevels\u001b[0m \u001b[0;34m>\u001b[0m \u001b[0;36m1\u001b[0m\u001b[0;34m:\u001b[0m\u001b[0;34m\u001b[0m\u001b[0;34m\u001b[0m\u001b[0m\n\u001b[1;32m   2905\u001b[0m                 \u001b[0;32mreturn\u001b[0m \u001b[0mself\u001b[0m\u001b[0;34m.\u001b[0m\u001b[0m_getitem_multilevel\u001b[0m\u001b[0;34m(\u001b[0m\u001b[0mkey\u001b[0m\u001b[0;34m)\u001b[0m\u001b[0;34m\u001b[0m\u001b[0;34m\u001b[0m\u001b[0m\n\u001b[0;32m-> 2906\u001b[0;31m             \u001b[0mindexer\u001b[0m \u001b[0;34m=\u001b[0m \u001b[0mself\u001b[0m\u001b[0;34m.\u001b[0m\u001b[0mcolumns\u001b[0m\u001b[0;34m.\u001b[0m\u001b[0mget_loc\u001b[0m\u001b[0;34m(\u001b[0m\u001b[0mkey\u001b[0m\u001b[0;34m)\u001b[0m\u001b[0;34m\u001b[0m\u001b[0;34m\u001b[0m\u001b[0m\n\u001b[0m\u001b[1;32m   2907\u001b[0m             \u001b[0;32mif\u001b[0m \u001b[0mis_integer\u001b[0m\u001b[0;34m(\u001b[0m\u001b[0mindexer\u001b[0m\u001b[0;34m)\u001b[0m\u001b[0;34m:\u001b[0m\u001b[0;34m\u001b[0m\u001b[0;34m\u001b[0m\u001b[0m\n\u001b[1;32m   2908\u001b[0m                 \u001b[0mindexer\u001b[0m \u001b[0;34m=\u001b[0m \u001b[0;34m[\u001b[0m\u001b[0mindexer\u001b[0m\u001b[0;34m]\u001b[0m\u001b[0;34m\u001b[0m\u001b[0;34m\u001b[0m\u001b[0m\n",
            "\u001b[0;32m/usr/local/lib/python3.7/dist-packages/pandas/core/indexes/base.py\u001b[0m in \u001b[0;36mget_loc\u001b[0;34m(self, key, method, tolerance)\u001b[0m\n\u001b[1;32m   2898\u001b[0m                 \u001b[0;32mreturn\u001b[0m \u001b[0mself\u001b[0m\u001b[0;34m.\u001b[0m\u001b[0m_engine\u001b[0m\u001b[0;34m.\u001b[0m\u001b[0mget_loc\u001b[0m\u001b[0;34m(\u001b[0m\u001b[0mcasted_key\u001b[0m\u001b[0;34m)\u001b[0m\u001b[0;34m\u001b[0m\u001b[0;34m\u001b[0m\u001b[0m\n\u001b[1;32m   2899\u001b[0m             \u001b[0;32mexcept\u001b[0m \u001b[0mKeyError\u001b[0m \u001b[0;32mas\u001b[0m \u001b[0merr\u001b[0m\u001b[0;34m:\u001b[0m\u001b[0;34m\u001b[0m\u001b[0;34m\u001b[0m\u001b[0m\n\u001b[0;32m-> 2900\u001b[0;31m                 \u001b[0;32mraise\u001b[0m \u001b[0mKeyError\u001b[0m\u001b[0;34m(\u001b[0m\u001b[0mkey\u001b[0m\u001b[0;34m)\u001b[0m \u001b[0;32mfrom\u001b[0m \u001b[0merr\u001b[0m\u001b[0;34m\u001b[0m\u001b[0;34m\u001b[0m\u001b[0m\n\u001b[0m\u001b[1;32m   2901\u001b[0m \u001b[0;34m\u001b[0m\u001b[0m\n\u001b[1;32m   2902\u001b[0m         \u001b[0;32mif\u001b[0m \u001b[0mtolerance\u001b[0m \u001b[0;32mis\u001b[0m \u001b[0;32mnot\u001b[0m \u001b[0;32mNone\u001b[0m\u001b[0;34m:\u001b[0m\u001b[0;34m\u001b[0m\u001b[0;34m\u001b[0m\u001b[0m\n",
            "\u001b[0;31mKeyError\u001b[0m: 'notas'"
          ]
        }
      ]
    },
    {
      "cell_type": "code",
      "metadata": {
        "id": "MUPOguElggH4",
        "colab": {
          "base_uri": "https://localhost:8080/"
        },
        "outputId": "b823a744-52c8-4add-ae21-280ad5cb9da8"
      },
      "source": [
        "import pandas as pd\n",
        "import matplotlib.pyplot as plt\n",
        "\n",
        "usuarios = pd.read_csv(\"/content/Usuario1.csv\", sep=\";\")\n",
        "#print(usuarios[\"pais\"])\n",
        "\n",
        "peliculas = pd.read_csv(\"/content/Peliculas.csv\", sep=\";\")\n",
        "#print(peliculas[\"pelicula\"])\n",
        "\n",
        "usuario_peliculas = pd.read_csv(\"/content/usuario_peliculas.csv\", sep=\";\")\n",
        "#print(usuario_peliculas)\n",
        "\n",
        "usuariopeliculas = pd.merge(pd.merge(usuarios,usuario_peliculas), peliculas, on=\"idPelicula\")\n",
        "print(usuariopeliculas)\n",
        "\n",
        "\n"
      ],
      "execution_count": null,
      "outputs": [
        {
          "output_type": "stream",
          "name": "stdout",
          "text": [
            "   idUsuario     nombre Genero  ...           genero duracion genero.1\n",
            "0          1   fernando      M  ...          comedia      120        A\n",
            "1          2  francisco      M  ...           accion      120        C\n",
            "2          2  francisco      M  ...  entretenimiento       90        A\n",
            "3          3      maria      F  ...           terror      120        D\n",
            "4          4     martin      M  ...          ficcion      100        B\n",
            "5          5      karla      F  ...          comedia      120        B\n",
            "6          5      karla      F  ...          comedia       90        B\n",
            "7          6    xiomara      F  ...          romance      180        C\n",
            "\n",
            "[8 rows x 13 columns]\n"
          ]
        }
      ]
    },
    {
      "cell_type": "markdown",
      "metadata": {
        "id": "G-9PzyECb5n0"
      },
      "source": [
        "USO de TENSORFLOW"
      ]
    },
    {
      "cell_type": "code",
      "metadata": {
        "id": "cCtjLuFtcDwM",
        "outputId": "035abf58-a4d5-4964-e166-89107a543d37",
        "colab": {
          "base_uri": "https://localhost:8080/"
        }
      },
      "source": [
        "import tensorflow as tf \n",
        "resp = tf.add(3,8).numpy()\n",
        "print(resp)"
      ],
      "execution_count": 7,
      "outputs": [
        {
          "output_type": "stream",
          "name": "stdout",
          "text": [
            "11\n"
          ]
        }
      ]
    },
    {
      "cell_type": "code",
      "metadata": {
        "id": "w3vfLoQViK-Q"
      },
      "source": [
        "import tensorflow as tf\n",
        "import pandas as pd\n",
        "import matplotlib.pyplot as plt\n",
        "import seaborn as sns "
      ],
      "execution_count": 8,
      "outputs": []
    },
    {
      "cell_type": "code",
      "metadata": {
        "id": "-f5bdgU6itBP",
        "outputId": "1e1ae100-07ff-4037-fd58-8a6a305806ac",
        "colab": {
          "base_uri": "https://localhost:8080/",
          "height": 333
        }
      },
      "source": [
        "#obtencion de los datos de entrenamiento\n",
        "temperaturas = pd.read_csv(\"/content/dataset.csv\", sep=\";\")\n",
        "\n",
        "sns.scatterplot(temperaturas[\"celsius\"], temperaturas[\"fahrenheit\"])\n",
        "plt.show()"
      ],
      "execution_count": 10,
      "outputs": [
        {
          "output_type": "stream",
          "name": "stderr",
          "text": [
            "/usr/local/lib/python3.7/dist-packages/seaborn/_decorators.py:43: FutureWarning: Pass the following variables as keyword args: x, y. From version 0.12, the only valid positional argument will be `data`, and passing other arguments without an explicit keyword will result in an error or misinterpretation.\n",
            "  FutureWarning\n"
          ]
        },
        {
          "output_type": "display_data",
          "data": {
            "image/png": "[encoded data removed]",
            "text/plain": [
              "<Figure size 432x288 with 1 Axes>"
            ]
          },
          "metadata": {
            "needs_background": "light"
          }
        }
      ]
    },
    {
      "cell_type": "code",
      "metadata": {
        "id": "lUDkhwz5k_PD"
      },
      "source": [
        "#datos de entrada y salida\n",
        "celsius = temperaturas[\"celsius\"]\n",
        "fahrenheit = temperaturas[\"fahrenheit\"]"
      ],
      "execution_count": 11,
      "outputs": []
    },
    {
      "cell_type": "code",
      "metadata": {
        "id": "uBGl8Im9lcUB"
      },
      "source": [
        "#modelo de entrenamiento\n",
        "modelo = tf.keras.Sequential()\n",
        "modelo.add(tf.keras.layers.Dense(units=1, input_shape=[1]))"
      ],
      "execution_count": 14,
      "outputs": []
    },
    {
      "cell_type": "code",
      "metadata": {
        "id": "t9nzRhcwmkzf"
      },
      "source": [
        "#compilar el modelo\n",
        "modelo.compile(optimizer=tf.keras.optimizers.Adam(1),loss='mean_squared_error')"
      ],
      "execution_count": 15,
      "outputs": []
    },
    {
      "cell_type": "code",
      "metadata": {
        "id": "7b1TDiYGnKSt",
        "outputId": "fff51669-75bc-49a7-cf2d-cc058f254834",
        "colab": {
          "base_uri": "https://localhost:8080/"
        }
      },
      "source": [
        "#entrenamiento del modelo\n",
        "epocas = modelo.fit(celsius, fahrenheit, epochs=200)"
      ],
      "execution_count": 22,
      "outputs": [
        {
          "output_type": "stream",
          "name": "stdout",
          "text": [
            "Epoch 1/200\n",
            "1/1 [==============================] - 0s 4ms/step - loss: 0.0084\n",
            "Epoch 2/200\n",
            "1/1 [==============================] - 0s 3ms/step - loss: 0.0102\n",
            "Epoch 3/200\n",
            "1/1 [==============================] - 0s 3ms/step - loss: 0.0107\n",
            "Epoch 4/200\n",
            "1/1 [==============================] - 0s 3ms/step - loss: 0.0086\n",
            "Epoch 5/200\n",
            "1/1 [==============================] - 0s 3ms/step - loss: 0.0060\n",
            "Epoch 6/200\n",
            "1/1 [==============================] - 0s 4ms/step - loss: 0.0051\n",
            "Epoch 7/200\n",
            "1/1 [==============================] - 0s 3ms/step - loss: 0.0060\n",
            "Epoch 8/200\n",
            "1/1 [==============================] - 0s 6ms/step - loss: 0.0065\n",
            "Epoch 9/200\n",
            "1/1 [==============================] - 0s 4ms/step - loss: 0.0054\n",
            "Epoch 10/200\n",
            "1/1 [==============================] - 0s 4ms/step - loss: 0.0037\n",
            "Epoch 11/200\n",
            "1/1 [==============================] - 0s 5ms/step - loss: 0.0029\n",
            "Epoch 12/200\n",
            "1/1 [==============================] - 0s 3ms/step - loss: 0.0032\n",
            "Epoch 13/200\n",
            "1/1 [==============================] - 0s 5ms/step - loss: 0.0036\n",
            "Epoch 14/200\n",
            "1/1 [==============================] - 0s 6ms/step - loss: 0.0031\n",
            "Epoch 15/200\n",
            "1/1 [==============================] - 0s 3ms/step - loss: 0.0021\n",
            "Epoch 16/200\n",
            "1/1 [==============================] - 0s 3ms/step - loss: 0.0014\n",
            "Epoch 17/200\n",
            "1/1 [==============================] - 0s 3ms/step - loss: 0.0015\n",
            "Epoch 18/200\n",
            "1/1 [==============================] - 0s 3ms/step - loss: 0.0018\n",
            "Epoch 19/200\n",
            "1/1 [==============================] - 0s 3ms/step - loss: 0.0016\n",
            "Epoch 20/200\n",
            "1/1 [==============================] - 0s 3ms/step - loss: 0.0010\n",
            "Epoch 21/200\n",
            "1/1 [==============================] - 0s 3ms/step - loss: 5.9336e-04\n",
            "Epoch 22/200\n",
            "1/1 [==============================] - 0s 3ms/step - loss: 6.3513e-04\n",
            "Epoch 23/200\n",
            "1/1 [==============================] - 0s 4ms/step - loss: 8.3030e-04\n",
            "Epoch 24/200\n",
            "1/1 [==============================] - 0s 3ms/step - loss: 7.6365e-04\n",
            "Epoch 25/200\n",
            "1/1 [==============================] - 0s 3ms/step - loss: 4.3791e-04\n",
            "Epoch 26/200\n",
            "1/1 [==============================] - 0s 3ms/step - loss: 1.9355e-04\n",
            "Epoch 27/200\n",
            "1/1 [==============================] - 0s 3ms/step - loss: 2.2476e-04\n",
            "Epoch 28/200\n",
            "1/1 [==============================] - 0s 5ms/step - loss: 3.6270e-04\n",
            "Epoch 29/200\n",
            "1/1 [==============================] - 0s 3ms/step - loss: 3.4899e-04\n",
            "Epoch 30/200\n",
            "1/1 [==============================] - 0s 3ms/step - loss: 1.7274e-04\n",
            "Epoch 31/200\n",
            "1/1 [==============================] - 0s 5ms/step - loss: 3.8835e-05\n",
            "Epoch 32/200\n",
            "1/1 [==============================] - 0s 3ms/step - loss: 7.0006e-05\n",
            "Epoch 33/200\n",
            "1/1 [==============================] - 0s 3ms/step - loss: 1.6576e-04\n",
            "Epoch 34/200\n",
            "1/1 [==============================] - 0s 3ms/step - loss: 1.6817e-04\n",
            "Epoch 35/200\n",
            "1/1 [==============================] - 0s 3ms/step - loss: 7.1738e-05\n",
            "Epoch 36/200\n",
            "1/1 [==============================] - 0s 3ms/step - loss: 2.0001e-06\n",
            "Epoch 37/200\n",
            "1/1 [==============================] - 0s 8ms/step - loss: 3.1160e-05\n",
            "Epoch 38/200\n",
            "1/1 [==============================] - 0s 4ms/step - loss: 9.4551e-05\n",
            "Epoch 39/200\n",
            "1/1 [==============================] - 0s 3ms/step - loss: 9.7586e-05\n",
            "Epoch 40/200\n",
            "1/1 [==============================] - 0s 3ms/step - loss: 4.2428e-05\n",
            "Epoch 41/200\n",
            "1/1 [==============================] - 0s 3ms/step - loss: 7.3711e-06\n",
            "Epoch 42/200\n",
            "1/1 [==============================] - 0s 3ms/step - loss: 3.1377e-05\n",
            "Epoch 43/200\n",
            "1/1 [==============================] - 0s 3ms/step - loss: 7.0476e-05\n",
            "Epoch 44/200\n",
            "1/1 [==============================] - 0s 3ms/step - loss: 6.9375e-05\n",
            "Epoch 45/200\n",
            "1/1 [==============================] - 0s 3ms/step - loss: 3.5766e-05\n",
            "Epoch 46/200\n",
            "1/1 [==============================] - 0s 3ms/step - loss: 1.8585e-05\n",
            "Epoch 47/200\n",
            "1/1 [==============================] - 0s 3ms/step - loss: 3.6297e-05\n",
            "Epoch 48/200\n",
            "1/1 [==============================] - 0s 3ms/step - loss: 5.8056e-05\n",
            "Epoch 49/200\n",
            "1/1 [==============================] - 0s 3ms/step - loss: 5.3141e-05\n",
            "Epoch 50/200\n",
            "1/1 [==============================] - 0s 3ms/step - loss: 3.1564e-05\n",
            "Epoch 51/200\n",
            "1/1 [==============================] - 0s 3ms/step - loss: 2.3538e-05\n",
            "Epoch 52/200\n",
            "1/1 [==============================] - 0s 4ms/step - loss: 3.5476e-05\n",
            "Epoch 53/200\n",
            "1/1 [==============================] - 0s 3ms/step - loss: 4.5828e-05\n",
            "Epoch 54/200\n",
            "1/1 [==============================] - 0s 5ms/step - loss: 3.8968e-05\n",
            "Epoch 55/200\n",
            "1/1 [==============================] - 0s 3ms/step - loss: 2.5033e-05\n",
            "Epoch 56/200\n",
            "1/1 [==============================] - 0s 3ms/step - loss: 2.1759e-05\n",
            "Epoch 57/200\n",
            "1/1 [==============================] - 0s 4ms/step - loss: 2.9174e-05\n",
            "Epoch 58/200\n",
            "1/1 [==============================] - 0s 3ms/step - loss: 3.2745e-05\n",
            "Epoch 59/200\n",
            "1/1 [==============================] - 0s 3ms/step - loss: 2.5874e-05\n",
            "Epoch 60/200\n",
            "1/1 [==============================] - 0s 6ms/step - loss: 1.7272e-05\n",
            "Epoch 61/200\n",
            "1/1 [==============================] - 0s 3ms/step - loss: 1.6499e-05\n",
            "Epoch 62/200\n",
            "1/1 [==============================] - 0s 3ms/step - loss: 2.0720e-05\n",
            "Epoch 63/200\n",
            "1/1 [==============================] - 0s 3ms/step - loss: 2.0831e-05\n",
            "Epoch 64/200\n",
            "1/1 [==============================] - 0s 6ms/step - loss: 1.5128e-05\n",
            "Epoch 65/200\n",
            "1/1 [==============================] - 0s 8ms/step - loss: 1.0328e-05\n",
            "Epoch 66/200\n",
            "1/1 [==============================] - 0s 3ms/step - loss: 1.0789e-05\n",
            "Epoch 67/200\n",
            "1/1 [==============================] - 0s 3ms/step - loss: 1.2930e-05\n",
            "Epoch 68/200\n",
            "1/1 [==============================] - 0s 3ms/step - loss: 1.1601e-05\n",
            "Epoch 69/200\n",
            "1/1 [==============================] - 0s 3ms/step - loss: 7.5716e-06\n",
            "Epoch 70/200\n",
            "1/1 [==============================] - 0s 3ms/step - loss: 5.3597e-06\n",
            "Epoch 71/200\n",
            "1/1 [==============================] - 0s 4ms/step - loss: 6.2602e-06\n",
            "Epoch 72/200\n",
            "1/1 [==============================] - 0s 3ms/step - loss: 7.0991e-06\n",
            "Epoch 73/200\n",
            "1/1 [==============================] - 0s 4ms/step - loss: 5.5081e-06\n",
            "Epoch 74/200\n",
            "1/1 [==============================] - 0s 3ms/step - loss: 3.0893e-06\n",
            "Epoch 75/200\n",
            "1/1 [==============================] - 0s 3ms/step - loss: 2.4394e-06\n",
            "Epoch 76/200\n",
            "1/1 [==============================] - 0s 3ms/step - loss: 3.2982e-06\n",
            "Epoch 77/200\n",
            "1/1 [==============================] - 0s 3ms/step - loss: 3.4228e-06\n",
            "Epoch 78/200\n",
            "1/1 [==============================] - 0s 7ms/step - loss: 2.1105e-06\n",
            "Epoch 79/200\n",
            "1/1 [==============================] - 0s 6ms/step - loss: 9.3231e-07\n",
            "Epoch 80/200\n",
            "1/1 [==============================] - 0s 10ms/step - loss: 1.0640e-06\n",
            "Epoch 81/200\n",
            "1/1 [==============================] - 0s 5ms/step - loss: 1.6556e-06\n",
            "Epoch 82/200\n",
            "1/1 [==============================] - 0s 5ms/step - loss: 1.4245e-06\n",
            "Epoch 83/200\n",
            "1/1 [==============================] - 0s 5ms/step - loss: 5.5717e-07\n",
            "Epoch 84/200\n",
            "1/1 [==============================] - 0s 4ms/step - loss: 1.8217e-07\n",
            "Epoch 85/200\n",
            "1/1 [==============================] - 0s 6ms/step - loss: 5.4982e-07\n",
            "Epoch 86/200\n",
            "1/1 [==============================] - 0s 5ms/step - loss: 8.3102e-07\n",
            "Epoch 87/200\n",
            "1/1 [==============================] - 0s 10ms/step - loss: 5.0483e-07\n",
            "Epoch 88/200\n",
            "1/1 [==============================] - 0s 4ms/step - loss: 5.9701e-08\n",
            "Epoch 89/200\n",
            "1/1 [==============================] - 0s 4ms/step - loss: 8.8164e-08\n",
            "Epoch 90/200\n",
            "1/1 [==============================] - 0s 4ms/step - loss: 4.0182e-07\n",
            "Epoch 91/200\n",
            "1/1 [==============================] - 0s 4ms/step - loss: 4.5175e-07\n",
            "Epoch 92/200\n",
            "1/1 [==============================] - 0s 5ms/step - loss: 1.7418e-07\n",
            "Epoch 93/200\n",
            "1/1 [==============================] - 0s 5ms/step - loss: 2.4219e-08\n",
            "Epoch 94/200\n",
            "1/1 [==============================] - 0s 5ms/step - loss: 1.7766e-07\n",
            "Epoch 95/200\n",
            "1/1 [==============================] - 0s 8ms/step - loss: 3.4496e-07\n",
            "Epoch 96/200\n",
            "1/1 [==============================] - 0s 5ms/step - loss: 2.6615e-07\n",
            "Epoch 97/200\n",
            "1/1 [==============================] - 0s 4ms/step - loss: 1.0278e-07\n",
            "Epoch 98/200\n",
            "1/1 [==============================] - 0s 6ms/step - loss: 1.0604e-07\n",
            "Epoch 99/200\n",
            "1/1 [==============================] - 0s 4ms/step - loss: 2.3980e-07\n",
            "Epoch 100/200\n",
            "1/1 [==============================] - 0s 4ms/step - loss: 2.7254e-07\n",
            "Epoch 101/200\n",
            "1/1 [==============================] - 0s 5ms/step - loss: 1.7136e-07\n",
            "Epoch 102/200\n",
            "1/1 [==============================] - 0s 5ms/step - loss: 1.0654e-07\n",
            "Epoch 103/200\n",
            "1/1 [==============================] - 0s 4ms/step - loss: 1.5928e-07\n",
            "Epoch 104/200\n",
            "1/1 [==============================] - 0s 5ms/step - loss: 2.2172e-07\n",
            "Epoch 105/200\n",
            "1/1 [==============================] - 0s 4ms/step - loss: 1.9052e-07\n",
            "Epoch 106/200\n",
            "1/1 [==============================] - 0s 4ms/step - loss: 1.1836e-07\n",
            "Epoch 107/200\n",
            "1/1 [==============================] - 0s 4ms/step - loss: 1.1178e-07\n",
            "Epoch 108/200\n",
            "1/1 [==============================] - 0s 6ms/step - loss: 1.5548e-07\n",
            "Epoch 109/200\n",
            "1/1 [==============================] - 0s 5ms/step - loss: 1.5967e-07\n",
            "Epoch 110/200\n",
            "1/1 [==============================] - 0s 6ms/step - loss: 1.1151e-07\n",
            "Epoch 111/200\n",
            "1/1 [==============================] - 0s 5ms/step - loss: 8.0147e-08\n",
            "Epoch 112/200\n",
            "1/1 [==============================] - 0s 5ms/step - loss: 9.5644e-08\n",
            "Epoch 113/200\n",
            "1/1 [==============================] - 0s 8ms/step - loss: 1.1234e-07\n",
            "Epoch 114/200\n",
            "1/1 [==============================] - 0s 7ms/step - loss: 8.9439e-08\n",
            "Epoch 115/200\n",
            "1/1 [==============================] - 0s 19ms/step - loss: 5.7975e-08\n",
            "Epoch 116/200\n",
            "1/1 [==============================] - 0s 15ms/step - loss: 5.4981e-08\n",
            "Epoch 117/200\n",
            "1/1 [==============================] - 0s 7ms/step - loss: 6.7944e-08\n",
            "Epoch 118/200\n",
            "1/1 [==============================] - 0s 5ms/step - loss: 6.2314e-08\n",
            "Epoch 119/200\n",
            "1/1 [==============================] - 0s 8ms/step - loss: 4.0037e-08\n",
            "Epoch 120/200\n",
            "1/1 [==============================] - 0s 7ms/step - loss: 2.8157e-08\n",
            "Epoch 121/200\n",
            "1/1 [==============================] - 0s 14ms/step - loss: 3.5068e-08\n",
            "Epoch 122/200\n",
            "1/1 [==============================] - 0s 4ms/step - loss: 3.7851e-08\n",
            "Epoch 123/200\n",
            "1/1 [==============================] - 0s 5ms/step - loss: 2.5793e-08\n",
            "Epoch 124/200\n",
            "1/1 [==============================] - 0s 4ms/step - loss: 1.3932e-08\n",
            "Epoch 125/200\n",
            "1/1 [==============================] - 0s 11ms/step - loss: 1.5159e-08\n",
            "Epoch 126/200\n",
            "1/1 [==============================] - 0s 4ms/step - loss: 1.9275e-08\n",
            "Epoch 127/200\n",
            "1/1 [==============================] - 0s 4ms/step - loss: 1.5276e-08\n",
            "Epoch 128/200\n",
            "1/1 [==============================] - 0s 4ms/step - loss: 6.5655e-09\n",
            "Epoch 129/200\n",
            "1/1 [==============================] - 0s 5ms/step - loss: 4.8978e-09\n",
            "Epoch 130/200\n",
            "1/1 [==============================] - 0s 4ms/step - loss: 8.6415e-09\n",
            "Epoch 131/200\n",
            "1/1 [==============================] - 0s 5ms/step - loss: 8.3971e-09\n",
            "Epoch 132/200\n",
            "1/1 [==============================] - 0s 4ms/step - loss: 3.7282e-09\n",
            "Epoch 133/200\n",
            "1/1 [==============================] - 0s 5ms/step - loss: 8.0872e-10\n",
            "Epoch 134/200\n",
            "1/1 [==============================] - 0s 4ms/step - loss: 3.5770e-09\n",
            "Epoch 135/200\n",
            "1/1 [==============================] - 0s 4ms/step - loss: 5.5748e-09\n",
            "Epoch 136/200\n",
            "1/1 [==============================] - 0s 3ms/step - loss: 2.5113e-09\n",
            "Epoch 137/200\n",
            "1/1 [==============================] - 0s 4ms/step - loss: 1.0914e-10\n",
            "Epoch 138/200\n",
            "1/1 [==============================] - 0s 4ms/step - loss: 1.1323e-09\n",
            "Epoch 139/200\n",
            "1/1 [==============================] - 0s 3ms/step - loss: 3.2850e-09\n",
            "Epoch 140/200\n",
            "1/1 [==============================] - 0s 4ms/step - loss: 2.9172e-09\n",
            "Epoch 141/200\n",
            "1/1 [==============================] - 0s 3ms/step - loss: 4.7330e-10\n",
            "Epoch 142/200\n",
            "1/1 [==============================] - 0s 4ms/step - loss: 5.8584e-10\n",
            "Epoch 143/200\n",
            "1/1 [==============================] - 0s 4ms/step - loss: 2.2426e-09\n",
            "Epoch 144/200\n",
            "1/1 [==============================] - 0s 4ms/step - loss: 2.5154e-09\n",
            "Epoch 145/200\n",
            "1/1 [==============================] - 0s 4ms/step - loss: 1.2150e-09\n",
            "Epoch 146/200\n",
            "1/1 [==============================] - 0s 5ms/step - loss: 7.7756e-10\n",
            "Epoch 147/200\n",
            "1/1 [==============================] - 0s 4ms/step - loss: 1.8666e-09\n",
            "Epoch 148/200\n",
            "1/1 [==============================] - 0s 4ms/step - loss: 2.2885e-09\n",
            "Epoch 149/200\n",
            "1/1 [==============================] - 0s 4ms/step - loss: 1.2033e-09\n",
            "Epoch 150/200\n",
            "1/1 [==============================] - 0s 5ms/step - loss: 8.0387e-10\n",
            "Epoch 151/200\n",
            "1/1 [==============================] - 0s 5ms/step - loss: 1.4056e-09\n",
            "Epoch 152/200\n",
            "1/1 [==============================] - 0s 4ms/step - loss: 1.6944e-09\n",
            "Epoch 153/200\n",
            "1/1 [==============================] - 0s 4ms/step - loss: 1.2741e-09\n",
            "Epoch 154/200\n",
            "1/1 [==============================] - 0s 4ms/step - loss: 8.0387e-10\n",
            "Epoch 155/200\n",
            "1/1 [==============================] - 0s 3ms/step - loss: 1.0516e-09\n",
            "Epoch 156/200\n",
            "1/1 [==============================] - 0s 4ms/step - loss: 1.3685e-09\n",
            "Epoch 157/200\n",
            "1/1 [==============================] - 0s 3ms/step - loss: 1.1041e-09\n",
            "Epoch 158/200\n",
            "1/1 [==============================] - 0s 3ms/step - loss: 7.1389e-10\n",
            "Epoch 159/200\n",
            "1/1 [==============================] - 0s 4ms/step - loss: 7.2723e-10\n",
            "Epoch 160/200\n",
            "1/1 [==============================] - 0s 4ms/step - loss: 9.9826e-10\n",
            "Epoch 161/200\n",
            "1/1 [==============================] - 0s 4ms/step - loss: 7.8253e-10\n",
            "Epoch 162/200\n",
            "1/1 [==============================] - 0s 5ms/step - loss: 4.8179e-10\n",
            "Epoch 163/200\n",
            "1/1 [==============================] - 0s 3ms/step - loss: 4.0806e-10\n",
            "Epoch 164/200\n",
            "1/1 [==============================] - 0s 4ms/step - loss: 4.7791e-10\n",
            "Epoch 165/200\n",
            "1/1 [==============================] - 0s 3ms/step - loss: 4.4286e-10\n",
            "Epoch 166/200\n",
            "1/1 [==============================] - 0s 3ms/step - loss: 3.0838e-10\n",
            "Epoch 167/200\n",
            "1/1 [==============================] - 0s 3ms/step - loss: 1.9706e-10\n",
            "Epoch 168/200\n",
            "1/1 [==============================] - 0s 4ms/step - loss: 3.5276e-10\n",
            "Epoch 169/200\n",
            "1/1 [==============================] - 0s 3ms/step - loss: 3.5652e-10\n",
            "Epoch 170/200\n",
            "1/1 [==============================] - 0s 3ms/step - loss: 1.3727e-10\n",
            "Epoch 171/200\n",
            "1/1 [==============================] - 0s 3ms/step - loss: 7.4821e-11\n",
            "Epoch 172/200\n",
            "1/1 [==============================] - 0s 4ms/step - loss: 1.0441e-10\n",
            "Epoch 173/200\n",
            "1/1 [==============================] - 0s 3ms/step - loss: 1.7862e-10\n",
            "Epoch 174/200\n",
            "1/1 [==============================] - 0s 6ms/step - loss: 1.5607e-10\n",
            "Epoch 175/200\n",
            "1/1 [==============================] - 0s 4ms/step - loss: 1.7462e-11\n",
            "Epoch 176/200\n",
            "1/1 [==============================] - 0s 4ms/step - loss: 1.3582e-10\n",
            "Epoch 177/200\n",
            "1/1 [==============================] - 0s 3ms/step - loss: 1.3933e-10\n",
            "Epoch 178/200\n",
            "1/1 [==============================] - 0s 5ms/step - loss: 5.5419e-11\n",
            "Epoch 179/200\n",
            "1/1 [==============================] - 0s 4ms/step - loss: 9.7013e-12\n",
            "Epoch 180/200\n",
            "1/1 [==============================] - 0s 7ms/step - loss: 1.3351e-10\n",
            "Epoch 181/200\n",
            "1/1 [==============================] - 0s 7ms/step - loss: 1.3351e-10\n",
            "Epoch 182/200\n",
            "1/1 [==============================] - 0s 8ms/step - loss: 4.5717e-11\n",
            "Epoch 183/200\n",
            "1/1 [==============================] - 0s 6ms/step - loss: 1.7947e-11\n",
            "Epoch 184/200\n",
            "1/1 [==============================] - 0s 4ms/step - loss: 5.5419e-11\n",
            "Epoch 185/200\n",
            "1/1 [==============================] - 0s 4ms/step - loss: 5.5419e-11\n",
            "Epoch 186/200\n",
            "1/1 [==============================] - 0s 4ms/step - loss: 5.5419e-11\n",
            "Epoch 187/200\n",
            "1/1 [==============================] - 0s 3ms/step - loss: 1.7947e-11\n",
            "Epoch 188/200\n",
            "1/1 [==============================] - 0s 3ms/step - loss: 9.7013e-12\n",
            "Epoch 189/200\n",
            "1/1 [==============================] - 0s 3ms/step - loss: 4.5717e-11\n",
            "Epoch 190/200\n",
            "1/1 [==============================] - 0s 4ms/step - loss: 4.5717e-11\n",
            "Epoch 191/200\n",
            "1/1 [==============================] - 0s 3ms/step - loss: 9.7013e-12\n",
            "Epoch 192/200\n",
            "1/1 [==============================] - 0s 4ms/step - loss: 1.7947e-11\n",
            "Epoch 193/200\n",
            "1/1 [==============================] - 0s 4ms/step - loss: 1.7947e-11\n",
            "Epoch 194/200\n",
            "1/1 [==============================] - 0s 3ms/step - loss: 1.7947e-11\n",
            "Epoch 195/200\n",
            "1/1 [==============================] - 0s 8ms/step - loss: 1.7947e-11\n",
            "Epoch 196/200\n",
            "1/1 [==============================] - 0s 5ms/step - loss: 9.7013e-12\n",
            "Epoch 197/200\n",
            "1/1 [==============================] - 0s 6ms/step - loss: 9.7013e-12\n",
            "Epoch 198/200\n",
            "1/1 [==============================] - 0s 4ms/step - loss: 9.7013e-12\n",
            "Epoch 199/200\n",
            "1/1 [==============================] - 0s 3ms/step - loss: 9.7013e-12\n",
            "Epoch 200/200\n",
            "1/1 [==============================] - 0s 3ms/step - loss: 9.7013e-12\n"
          ]
        }
      ]
    },
    {
      "cell_type": "code",
      "metadata": {
        "id": "-MfdOuZKoSKj",
        "outputId": "4fa3913c-fa53-4901-fbb2-a02a9da933b0",
        "colab": {
          "base_uri": "https://localhost:8080/",
          "height": 295
        }
      },
      "source": [
        "#evaluando el nivel de error del aprendizaje\n",
        "plt.plot(epocas.history[\"loss\"])\n",
        "plt.title(\"Progreso del aprendizaje\")\n",
        "plt.xlabel(\"Epocas\")\n",
        "plt.ylabel(\"Error de aprendizaje\")\n",
        "plt.legend(\"Aprendizaje\")\n",
        "plt.show()"
      ],
      "execution_count": 17,
      "outputs": [
        {
          "output_type": "display_data",
          "data": {
            "image/png": "[encoded data removed]",
            "text/plain": [
              "<Figure size 432x288 with 1 Axes>"
            ]
          },
          "metadata": {
            "needs_background": "light"
          }
        }
      ]
    },
    {
      "cell_type": "code",
      "metadata": {
        "id": "JaRW6E-mpV2y",
        "outputId": "2dec90d1-037d-486b-da3b-5c6ad08b8556",
        "colab": {
          "base_uri": "https://localhost:8080/"
        }
      },
      "source": [
        "#haciendo predicciones con el aprendizaje automatico \n",
        "f = modelo.predict([27])\n",
        "print(f)"
      ],
      "execution_count": 23,
      "outputs": [
        {
          "output_type": "stream",
          "name": "stdout",
          "text": [
            "[[80.6]]\n"
          ]
        }
      ]
    }
  ]
}