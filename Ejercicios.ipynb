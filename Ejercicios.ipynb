{
  "nbformat": 4,
  "nbformat_minor": 0,
  "metadata": {
    "colab": {
      "name": "Ejercicios",
      "provenance": [],
      "authorship_tag": "ABX9TyMq2BVW49/BUIefv8B3s1D7",
      "include_colab_link": true
    },
    "kernelspec": {
      "name": "python3",
      "display_name": "Python 3"
    },
    "language_info": {
      "name": "python"
    }
  },
  "cells": [
    {
      "cell_type": "markdown",
      "metadata": {
        "id": "view-in-github",
        "colab_type": "text"
      },
      "source": [
        "<a href=\"https://colab.research.google.com/github/USIS007920/Programacion-lll/blob/Ejercicios/Ejercicios.ipynb\" target=\"_parent\"><img src=\"https://colab.research.google.com/assets/colab-badge.svg\" alt=\"Open In Colab\"/></a>"
      ]
    },
    {
      "cell_type": "code",
      "metadata": {
        "colab": {
          "base_uri": "https://localhost:8080/"
        },
        "id": "umx2R4Vwhh0U",
        "outputId": "642aaf00-d900-4ffc-9fbb-6676b0ced56a"
      },
      "source": [
        "print(\"Computo 1:\")\n",
        "n1c1 = float(input(\"Ingrese la nota del laboratorio 1: \"))\n",
        "n2c1 = float(input(\"Ingrese la nota del laboratorio 2: \"))\n",
        "pc1 = float(input(\"Ingrese la nota del parcial: \"))\n",
        "\n",
        "resultadoc1 = n1c1*0.30 + n2c1*0.30 + pc1*0.40\n",
        "print(\"Su nota es de: \", resultadoc1)\n",
        "\n",
        "print(\"\")\n",
        "\n",
        "print(\"Computo 2\")\n",
        "n1c2 = float(input(\"Ingrese la nota del laboratorio 1: \"))\n",
        "n2c2 = float(input(\"Ingrese la nota del laboratorio 2: \"))\n",
        "pc2 = float(input(\"Ingrese la nota del parcial: \"))\n",
        "\n",
        "resultadoc2 = n1c2*0.30 + n2c2*0.30 + pc2*0.40\n",
        "print(\"Su nota es de: \", resultadoc2)\n",
        "\n",
        "print(\"\")\n",
        "\n",
        "print(\"Computo 3\")\n",
        "n1c3 = float(input(\"Ingrese la nota del laboratorio 1: \"))\n",
        "n2c3 = float(input(\"Ingrese la nota del laboratorio 2: \"))\n",
        "pc3 = float(input(\"Ingrese la nota del parcial: \"))\n",
        "\n",
        "resultadoc3 = n1c3*0.30 + n2c3*0.30 + pc3*0.40\n",
        "print(\"Su nota es de: \", resultadoc3)\n",
        "\n",
        "print(\"\")\n",
        "\n",
        "print(\"Nota Final\")\n",
        "ciclo =(resultadoc1 + resultadoc2 + resultadoc3)/ 3\n",
        "print(ciclo)"
      ],
      "execution_count": 1,
      "outputs": [
        {
          "output_type": "stream",
          "text": [
            "Computo 1:\n",
            "Ingrese la nota del laboratorio 1: 5\n",
            "Ingrese la nota del laboratorio 2: 8\n",
            "Ingrese la nota del parcial: 2\n",
            "Su nota es de:  4.7\n",
            "\n",
            "Computo 2\n",
            "Ingrese la nota del laboratorio 1: 4\n",
            "Ingrese la nota del laboratorio 2: 7\n",
            "Ingrese la nota del parcial: 8\n",
            "Su nota es de:  6.5\n",
            "\n",
            "Computo 3\n",
            "Ingrese la nota del laboratorio 1: 6\n",
            "Ingrese la nota del laboratorio 2: 6\n",
            "Ingrese la nota del parcial: 6\n",
            "Su nota es de:  6.0\n",
            "\n",
            "Nota Final\n",
            "5.733333333333333\n"
          ],
          "name": "stdout"
        }
      ]
    },
    {
      "cell_type": "code",
      "metadata": {
        "colab": {
          "base_uri": "https://localhost:8080/"
        },
        "id": "fn-godiXh1EU",
        "outputId": "2462d314-3aca-48fd-d25a-7c1a4b23c3c4"
      },
      "source": [
        "from datetime import datetime\n",
        "from dateutil.relativedelta import relativedelta\n",
        "\n",
        "edad = relativedelta(datetime.now(), datetime(2001, 12, 3))\n",
        "print(f\"{edad.years} años, {edad.months} meses y {edad.days} días\")"
      ],
      "execution_count": null,
      "outputs": [
        {
          "output_type": "stream",
          "text": [
            "19 años, 8 meses y 4 días\n"
          ],
          "name": "stdout"
        }
      ]
    },
    {
      "cell_type": "code",
      "metadata": {
        "colab": {
          "base_uri": "https://localhost:8080/"
        },
        "id": "2DaArZVviLni",
        "outputId": "a6ac42a0-d7ed-45e3-e538-dd0c1ae659d4"
      },
      "source": [
        "celsius = int(input(\"Ingrese la temperatura en grados Celsius: \"))\n",
        "\n",
        "fahrenheit = 9.0/5.0 * celsius +32 \n",
        "\n",
        "print(\"{} grados celsius son {} grados fahrenheit\" .format(fahrenheit, celsius))"
      ],
      "execution_count": null,
      "outputs": [
        {
          "output_type": "stream",
          "text": [
            "Ingrese la temperatura en grados Celsius: 1\n",
            "33.8 grados celsius son 1 grados fahrenheit\n"
          ],
          "name": "stdout"
        }
      ]
    }
  ]
}