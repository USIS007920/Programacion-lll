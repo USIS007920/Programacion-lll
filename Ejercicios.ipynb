{
  "nbformat": 4,
  "nbformat_minor": 0,
  "metadata": {
    "colab": {
      "name": "Ejercicios",
      "provenance": [],
      "authorship_tag": "ABX9TyMUenDq1ZTKe3Qv6LW8askR",
      "include_colab_link": true
    },
    "kernelspec": {
      "name": "python3",
      "display_name": "Python 3"
    },
    "language_info": {
      "name": "python"
    }
  },
  "cells": [
    {
      "cell_type": "markdown",
      "metadata": {
        "id": "view-in-github",
        "colab_type": "text"
      },
      "source": [
        "<a href=\"https://colab.research.google.com/github/USIS007920/Programacion-lll/blob/Ejercicios/Ejercicios.ipynb\" target=\"_parent\"><img src=\"https://colab.research.google.com/assets/colab-badge.svg\" alt=\"Open In Colab\"/></a>"
      ]
    },
    {
      "cell_type": "code",
      "metadata": {
        "colab": {
          "base_uri": "https://localhost:8080/"
        },
        "id": "umx2R4Vwhh0U",
        "outputId": "642aaf00-d900-4ffc-9fbb-6676b0ced56a"
      },
      "source": [
        "print(\"Computo 1:\")\n",
        "n1c1 = float(input(\"Ingrese la nota del laboratorio 1: \"))\n",
        "n2c1 = float(input(\"Ingrese la nota del laboratorio 2: \"))\n",
        "pc1 = float(input(\"Ingrese la nota del parcial: \"))\n",
        "\n",
        "resultadoc1 = n1c1*0.30 + n2c1*0.30 + pc1*0.40\n",
        "print(\"Su nota es de: \", resultadoc1)\n",
        "\n",
        "print(\"\")\n",
        "\n",
        "print(\"Computo 2\")\n",
        "n1c2 = float(input(\"Ingrese la nota del laboratorio 1: \"))\n",
        "n2c2 = float(input(\"Ingrese la nota del laboratorio 2: \"))\n",
        "pc2 = float(input(\"Ingrese la nota del parcial: \"))\n",
        "\n",
        "resultadoc2 = n1c2*0.30 + n2c2*0.30 + pc2*0.40\n",
        "print(\"Su nota es de: \", resultadoc2)\n",
        "\n",
        "print(\"\")\n",
        "\n",
        "print(\"Computo 3\")\n",
        "n1c3 = float(input(\"Ingrese la nota del laboratorio 1: \"))\n",
        "n2c3 = float(input(\"Ingrese la nota del laboratorio 2: \"))\n",
        "pc3 = float(input(\"Ingrese la nota del parcial: \"))\n",
        "\n",
        "resultadoc3 = n1c3*0.30 + n2c3*0.30 + pc3*0.40\n",
        "print(\"Su nota es de: \", resultadoc3)\n",
        "\n",
        "print(\"\")\n",
        "\n",
        "print(\"Nota Final\")\n",
        "ciclo =(resultadoc1 + resultadoc2 + resultadoc3)/ 3\n",
        "print(ciclo)"
      ],
      "execution_count": null,
      "outputs": [
        {
          "output_type": "stream",
          "text": [
            "Computo 1:\n",
            "Ingrese la nota del laboratorio 1: 5\n",
            "Ingrese la nota del laboratorio 2: 8\n",
            "Ingrese la nota del parcial: 2\n",
            "Su nota es de:  4.7\n",
            "\n",
            "Computo 2\n",
            "Ingrese la nota del laboratorio 1: 4\n",
            "Ingrese la nota del laboratorio 2: 7\n",
            "Ingrese la nota del parcial: 8\n",
            "Su nota es de:  6.5\n",
            "\n",
            "Computo 3\n",
            "Ingrese la nota del laboratorio 1: 6\n",
            "Ingrese la nota del laboratorio 2: 6\n",
            "Ingrese la nota del parcial: 6\n",
            "Su nota es de:  6.0\n",
            "\n",
            "Nota Final\n",
            "5.733333333333333\n"
          ],
          "name": "stdout"
        }
      ]
    },
    {
      "cell_type": "code",
      "metadata": {
        "colab": {
          "base_uri": "https://localhost:8080/"
        },
        "id": "fn-godiXh1EU",
        "outputId": "2462d314-3aca-48fd-d25a-7c1a4b23c3c4"
      },
      "source": [
        "from datetime import datetime\n",
        "from dateutil.relativedelta import relativedelta\n",
        "\n",
        "edad = relativedelta(datetime.now(), datetime(2001, 12, 3))\n",
        "print(f\"{edad.years} años, {edad.months} meses y {edad.days} días\")"
      ],
      "execution_count": null,
      "outputs": [
        {
          "output_type": "stream",
          "text": [
            "19 años, 8 meses y 4 días\n"
          ],
          "name": "stdout"
        }
      ]
    },
    {
      "cell_type": "code",
      "metadata": {
        "colab": {
          "base_uri": "https://localhost:8080/"
        },
        "id": "2DaArZVviLni",
        "outputId": "a6ac42a0-d7ed-45e3-e538-dd0c1ae659d4"
      },
      "source": [
        "celsius = int(input(\"Ingrese la temperatura en grados Celsius: \"))\n",
        "\n",
        "fahrenheit = 9.0/5.0 * celsius +32 \n",
        "\n",
        "print(\"{} grados celsius son {} grados fahrenheit\" .format(fahrenheit, celsius))"
      ],
      "execution_count": null,
      "outputs": [
        {
          "output_type": "stream",
          "text": [
            "Ingrese la temperatura en grados Celsius: 1\n",
            "33.8 grados celsius son 1 grados fahrenheit\n"
          ],
          "name": "stdout"
        }
      ]
    },
    {
      "cell_type": "code",
      "metadata": {
        "id": "xvnd5KP0HA-F",
        "colab": {
          "base_uri": "https://localhost:8080/"
        },
        "outputId": "bcaf48c7-a971-4b2c-a21e-41363df716d6"
      },
      "source": [
        "edad = lambda num1,num2: num1-num2\n",
        "num1 = float(input(\"Introduzca el año actual: \"))\n",
        "num2 = float(input(\"Introduzca su año de nacimiento: \"))\n",
        "print(\"Su edad es: \", edad(num1,num2))"
      ],
      "execution_count": null,
      "outputs": [
        {
          "output_type": "stream",
          "text": [
            "Introduzca el año actual: 2021\n",
            "Introduzca su año de nacimiento: 2001\n",
            "Su edad es:  20.0\n"
          ],
          "name": "stdout"
        }
      ]
    },
    {
      "cell_type": "code",
      "metadata": {
        "id": "U-iXmtiyHtvS",
        "colab": {
          "base_uri": "https://localhost:8080/"
        },
        "outputId": "64d2f57c-47ae-42bc-f96c-f0035cbcc12c"
      },
      "source": [
        "print(\"Computo 1\")\n",
        "resultado1 = lambda num1,num2,num3: (num1+num2+num3)/3\n",
        "num1 = float(input(\"Ingrese nota de laboratorio 1: \"))\n",
        "num2 = float(input(\"Ingrese Nota de laboratorio 2: \"))\n",
        "num3 = float(input(\"Ingrese la nota de parcial: \"))\n",
        "print(\"La nota es: \", resultado1(num1,num2,num3))\n",
        "\n",
        "print(\"\")\n",
        "\n",
        "print(\"Computo 2\")\n",
        "resultado2 = lambda num1,num2,num3: (num1+num2+num3)/3\n",
        "num1 = float(input(\"Ingrese nota de laboratorio 1: \"))\n",
        "num2 = float(input(\"Ingrese nota de laboratorio 2: \"))\n",
        "num3 = float(input(\"Ingrese la nota de parcial: \"))\n",
        "print(\"La suma es: \", resultado2(num1,num2,num3))\n",
        "\n",
        "print(\"\")\n",
        "\n",
        "print(\"Computo 3\")\n",
        "resultado3 = lambda num1,num2,num3: (num1+num2+num3)/3\n",
        "num1 = float(input(\"Ingrese nota de laboratorio 1: \"))\n",
        "num2 = float(input(\"Ingrese nota de laboratorio 2: \"))\n",
        "num3 = float(input(\"Ingrese nota de parcial: \"))\n",
        "print(\"La suma es: \", resultado3(num1,num2,num3))\n",
        "\n",
        "print(\"\")\n",
        "\n",
        "print(\"Nota Final\")\n",
        "nf = lambda nf1,nf2,nf3: (nf1+nf2+nf3)/3\n",
        "nf1 = float(input(\"Ingrese la nota del computo 1: \"))\n",
        "nf2 = float(input(\"Ingrese la nota del computo 2: \"))\n",
        "nf3 = float(input(\"Ingrese la nota del computo 3: \"))\n",
        "print(\"La nota final es: \", nf(nf1,nf2,nf3))"
      ],
      "execution_count": null,
      "outputs": [
        {
          "output_type": "stream",
          "text": [
            "Computo 1\n",
            "Ingrese nota de laboratorio 1: 6\n",
            "Ingrese Nota de laboratorio 2: 7\n",
            "Ingrese la nota de parcial: 8\n",
            "La nota es:  7.0\n",
            "\n",
            "Computo 2\n",
            "Ingrese nota de laboratorio 1: 3\n",
            "Ingrese nota de laboratorio 2: 4\n",
            "Ingrese la nota de parcial: 9\n",
            "La suma es:  5.333333333333333\n",
            "\n",
            "Computo 3\n",
            "Ingrese nota de laboratorio 1: 7\n",
            "Ingrese nota de laboratorio 2: 8\n",
            "Ingrese nota de parcial: 6\n",
            "La suma es:  7.0\n",
            "\n",
            "Nota Final\n",
            "Ingrese la nota del computo 1: 7.0\n",
            "Ingrese la nota del computo 2: 5.3\n",
            "Ingrese la nota del computo 3: 7.0\n",
            "La nota final es:  6.433333333333334\n"
          ],
          "name": "stdout"
        }
      ]
    },
    {
      "cell_type": "code",
      "metadata": {
        "id": "tnQ4nSLqMZrB",
        "colab": {
          "base_uri": "https://localhost:8080/"
        },
        "outputId": "569d6aac-69c9-4bbd-b43f-3e2b9fb24c96"
      },
      "source": [
        "conversion = lambda c: (c*9/5) + 32\n",
        "c = float(input(\"Celsius: \"))\n",
        "print(\"Grados C: \", c, \" a F: \", conversion(c))"
      ],
      "execution_count": null,
      "outputs": [
        {
          "output_type": "stream",
          "text": [
            "Celsius: 50\n",
            "Grados C:  50.0  a F:  122.0\n"
          ],
          "name": "stdout"
        }
      ]
    },
    {
      "cell_type": "code",
      "metadata": {
        "id": "ObnFCjmLbvqD",
        "outputId": "f9eefe80-2225-4341-f3f7-42df1b483749",
        "colab": {
          "base_uri": "https://localhost:8080/"
        }
      },
      "source": [
        "n = int(input(\"Tabla: \"))\n",
        "i=1\n",
        "while i<=10:\n",
        "  print(n,\"X\",i,\"=\",n*i)\n",
        "  i+=1"
      ],
      "execution_count": 3,
      "outputs": [
        {
          "output_type": "stream",
          "text": [
            "Tabla: 2\n",
            "2 X 1 = 2\n",
            "2 X 2 = 4\n",
            "2 X 3 = 6\n",
            "2 X 4 = 8\n",
            "2 X 5 = 10\n",
            "2 X 6 = 12\n",
            "2 X 7 = 14\n",
            "2 X 8 = 16\n",
            "2 X 9 = 18\n",
            "2 X 10 = 20\n"
          ],
          "name": "stdout"
        }
      ]
    },
    {
      "cell_type": "code",
      "metadata": {
        "id": "p3-O0qRYdL-v",
        "outputId": "dafd6e85-1d5e-4aab-ece8-99e857a53c0b",
        "colab": {
          "base_uri": "https://localhost:8080/"
        }
      },
      "source": [
        "edad = int(input(\"Edad: \"))\n",
        "if edad<2:\n",
        "  print(\"Eres un bebe.\")\n",
        "elif edad<12:\n",
        "  print(\"Eres un niño\")\n",
        "elif edad<18:\n",
        "  print(\"Eres un adolescente\")\n",
        "elif edad<=55:\n",
        "  print(\"Eres joven\")\n",
        "elif edad<=65:\n",
        "  print(\"Eres adulto, un señor\")\n",
        "elif edad<=80:\n",
        "  print(\"Eres un adulto mayor\")\n",
        "elif edad<130:\n",
        "  print(\"Larga vidad\")\n",
        "else:\n",
        "  print(\"Error en la edad\")"
      ],
      "execution_count": 11,
      "outputs": [
        {
          "output_type": "stream",
          "text": [
            "Edad: 2\n",
            "Eres un niño\n"
          ],
          "name": "stdout"
        }
      ]
    }
  ]
}