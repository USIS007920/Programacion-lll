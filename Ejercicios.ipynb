{
  "nbformat": 4,
  "nbformat_minor": 0,
  "metadata": {
    "colab": {
      "name": "Ejercicios",
      "provenance": [],
      "authorship_tag": "ABX9TyOkmjmoCl2zVG2djTJLcNTv",
      "include_colab_link": true
    },
    "kernelspec": {
      "name": "python3",
      "display_name": "Python 3"
    },
    "language_info": {
      "name": "python"
    }
  },
  "cells": [
    {
      "cell_type": "markdown",
      "metadata": {
        "id": "view-in-github",
        "colab_type": "text"
      },
      "source": [
        "<a href=\"https://colab.research.google.com/github/USIS007920/Programacion-lll/blob/Ejercicios/Ejercicios.ipynb\" target=\"_parent\"><img src=\"https://colab.research.google.com/assets/colab-badge.svg\" alt=\"Open In Colab\"/></a>"
      ]
    },
    {
      "cell_type": "code",
      "metadata": {
        "colab": {
          "base_uri": "https://localhost:8080/"
        },
        "id": "umx2R4Vwhh0U",
        "outputId": "995a85cb-d4f3-4e29-f221-ec4fcd562caf"
      },
      "source": [
        "print(\"Ejercicio2: PROMEDIO DE 3 NOTAS.\")\n",
        "\n",
        "print(\"Ingrese las 3 notas del alumno N1 , N2, N3\")\n",
        "N1 = int( input(\"N1: \"))\n",
        "N2 = int( input(\"N2: \"))\n",
        "N3 = int( input(\"N3: \"))\n",
        "\n",
        "P = int( (N1+N2+N3)/3 )\n",
        "\n",
        "print(\"\\nSalida: \")\n",
        "print(P)"
      ],
      "execution_count": 1,
      "outputs": [
        {
          "output_type": "stream",
          "text": [
            "Ejercicio2: PROMEDIO DE 3 NOTAS.\n",
            "Ingrese las 3 notas del alumno N1 , N2, N3\n",
            "N1: 1\n",
            "N2: 3\n",
            "N3: 6\n",
            "\n",
            "Salida: \n",
            "3\n"
          ],
          "name": "stdout"
        }
      ]
    },
    {
      "cell_type": "code",
      "metadata": {
        "colab": {
          "base_uri": "https://localhost:8080/"
        },
        "id": "fn-godiXh1EU",
        "outputId": "2462d314-3aca-48fd-d25a-7c1a4b23c3c4"
      },
      "source": [
        "from datetime import datetime\n",
        "from dateutil.relativedelta import relativedelta\n",
        "\n",
        "edad = relativedelta(datetime.now(), datetime(2001, 12, 3))\n",
        "print(f\"{edad.years} años, {edad.months} meses y {edad.days} días\")"
      ],
      "execution_count": 2,
      "outputs": [
        {
          "output_type": "stream",
          "text": [
            "19 años, 8 meses y 4 días\n"
          ],
          "name": "stdout"
        }
      ]
    },
    {
      "cell_type": "code",
      "metadata": {
        "colab": {
          "base_uri": "https://localhost:8080/"
        },
        "id": "2DaArZVviLni",
        "outputId": "a6ac42a0-d7ed-45e3-e538-dd0c1ae659d4"
      },
      "source": [
        "celsius = int(input(\"Ingrese la temperatura en grados Celsius: \"))\n",
        "\n",
        "fahrenheit = 9.0/5.0 * celsius +32 \n",
        "\n",
        "print(\"{} grados celsius son {} grados fahrenheit\" .format(fahrenheit, celsius))"
      ],
      "execution_count": 3,
      "outputs": [
        {
          "output_type": "stream",
          "text": [
            "Ingrese la temperatura en grados Celsius: 1\n",
            "33.8 grados celsius son 1 grados fahrenheit\n"
          ],
          "name": "stdout"
        }
      ]
    }
  ]
}