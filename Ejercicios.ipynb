{
  "nbformat": 4,
  "nbformat_minor": 0,
  "metadata": {
    "colab": {
      "name": "Ejercicios",
      "provenance": [],
      "authorship_tag": "ABX9TyMhwwq/XYiqdrpIXjHI7QXr",
      "include_colab_link": true
    },
    "kernelspec": {
      "name": "python3",
      "display_name": "Python 3"
    },
    "language_info": {
      "name": "python"
    }
  },
  "cells": [
    {
      "cell_type": "markdown",
      "metadata": {
        "id": "view-in-github",
        "colab_type": "text"
      },
      "source": [
        "<a href=\"https://colab.research.google.com/github/USIS007920/Programacion-lll/blob/Ejercicios/Ejercicios.ipynb\" target=\"_parent\"><img src=\"https://colab.research.google.com/assets/colab-badge.svg\" alt=\"Open In Colab\"/></a>"
      ]
    },
    {
      "cell_type": "code",
      "metadata": {
        "colab": {
          "base_uri": "https://localhost:8080/"
        },
        "id": "umx2R4Vwhh0U",
        "outputId": "642aaf00-d900-4ffc-9fbb-6676b0ced56a"
      },
      "source": [
        "print(\"Computo 1:\")\n",
        "n1c1 = float(input(\"Ingrese la nota del laboratorio 1: \"))\n",
        "n2c1 = float(input(\"Ingrese la nota del laboratorio 2: \"))\n",
        "pc1 = float(input(\"Ingrese la nota del parcial: \"))\n",
        "\n",
        "resultadoc1 = n1c1*0.30 + n2c1*0.30 + pc1*0.40\n",
        "print(\"Su nota es de: \", resultadoc1)\n",
        "\n",
        "print(\"\")\n",
        "\n",
        "print(\"Computo 2\")\n",
        "n1c2 = float(input(\"Ingrese la nota del laboratorio 1: \"))\n",
        "n2c2 = float(input(\"Ingrese la nota del laboratorio 2: \"))\n",
        "pc2 = float(input(\"Ingrese la nota del parcial: \"))\n",
        "\n",
        "resultadoc2 = n1c2*0.30 + n2c2*0.30 + pc2*0.40\n",
        "print(\"Su nota es de: \", resultadoc2)\n",
        "\n",
        "print(\"\")\n",
        "\n",
        "print(\"Computo 3\")\n",
        "n1c3 = float(input(\"Ingrese la nota del laboratorio 1: \"))\n",
        "n2c3 = float(input(\"Ingrese la nota del laboratorio 2: \"))\n",
        "pc3 = float(input(\"Ingrese la nota del parcial: \"))\n",
        "\n",
        "resultadoc3 = n1c3*0.30 + n2c3*0.30 + pc3*0.40\n",
        "print(\"Su nota es de: \", resultadoc3)\n",
        "\n",
        "print(\"\")\n",
        "\n",
        "print(\"Nota Final\")\n",
        "ciclo =(resultadoc1 + resultadoc2 + resultadoc3)/ 3\n",
        "print(ciclo)"
      ],
      "execution_count": null,
      "outputs": [
        {
          "output_type": "stream",
          "text": [
            "Computo 1:\n",
            "Ingrese la nota del laboratorio 1: 5\n",
            "Ingrese la nota del laboratorio 2: 8\n",
            "Ingrese la nota del parcial: 2\n",
            "Su nota es de:  4.7\n",
            "\n",
            "Computo 2\n",
            "Ingrese la nota del laboratorio 1: 4\n",
            "Ingrese la nota del laboratorio 2: 7\n",
            "Ingrese la nota del parcial: 8\n",
            "Su nota es de:  6.5\n",
            "\n",
            "Computo 3\n",
            "Ingrese la nota del laboratorio 1: 6\n",
            "Ingrese la nota del laboratorio 2: 6\n",
            "Ingrese la nota del parcial: 6\n",
            "Su nota es de:  6.0\n",
            "\n",
            "Nota Final\n",
            "5.733333333333333\n"
          ],
          "name": "stdout"
        }
      ]
    },
    {
      "cell_type": "code",
      "metadata": {
        "colab": {
          "base_uri": "https://localhost:8080/"
        },
        "id": "fn-godiXh1EU",
        "outputId": "2462d314-3aca-48fd-d25a-7c1a4b23c3c4"
      },
      "source": [
        "from datetime import datetime\n",
        "from dateutil.relativedelta import relativedelta\n",
        "\n",
        "edad = relativedelta(datetime.now(), datetime(2001, 12, 3))\n",
        "print(f\"{edad.years} años, {edad.months} meses y {edad.days} días\")"
      ],
      "execution_count": null,
      "outputs": [
        {
          "output_type": "stream",
          "text": [
            "19 años, 8 meses y 4 días\n"
          ],
          "name": "stdout"
        }
      ]
    },
    {
      "cell_type": "code",
      "metadata": {
        "colab": {
          "base_uri": "https://localhost:8080/"
        },
        "id": "2DaArZVviLni",
        "outputId": "a6ac42a0-d7ed-45e3-e538-dd0c1ae659d4"
      },
      "source": [
        "celsius = int(input(\"Ingrese la temperatura en grados Celsius: \"))\n",
        "\n",
        "fahrenheit = 9.0/5.0 * celsius +32 \n",
        "\n",
        "print(\"{} grados celsius son {} grados fahrenheit\" .format(fahrenheit, celsius))"
      ],
      "execution_count": null,
      "outputs": [
        {
          "output_type": "stream",
          "text": [
            "Ingrese la temperatura en grados Celsius: 1\n",
            "33.8 grados celsius son 1 grados fahrenheit\n"
          ],
          "name": "stdout"
        }
      ]
    },
    {
      "cell_type": "code",
      "metadata": {
        "id": "xvnd5KP0HA-F",
        "colab": {
          "base_uri": "https://localhost:8080/"
        },
        "outputId": "bcaf48c7-a971-4b2c-a21e-41363df716d6"
      },
      "source": [
        "edad = lambda num1,num2: num1-num2\n",
        "num1 = float(input(\"Introduzca el año actual: \"))\n",
        "num2 = float(input(\"Introduzca su año de nacimiento: \"))\n",
        "print(\"Su edad es: \", edad(num1,num2))"
      ],
      "execution_count": null,
      "outputs": [
        {
          "output_type": "stream",
          "text": [
            "Introduzca el año actual: 2021\n",
            "Introduzca su año de nacimiento: 2001\n",
            "Su edad es:  20.0\n"
          ],
          "name": "stdout"
        }
      ]
    },
    {
      "cell_type": "code",
      "metadata": {
        "id": "U-iXmtiyHtvS",
        "colab": {
          "base_uri": "https://localhost:8080/"
        },
        "outputId": "64d2f57c-47ae-42bc-f96c-f0035cbcc12c"
      },
      "source": [
        "print(\"Computo 1\")\n",
        "resultado1 = lambda num1,num2,num3: (num1+num2+num3)/3\n",
        "num1 = float(input(\"Ingrese nota de laboratorio 1: \"))\n",
        "num2 = float(input(\"Ingrese Nota de laboratorio 2: \"))\n",
        "num3 = float(input(\"Ingrese la nota de parcial: \"))\n",
        "print(\"La nota es: \", resultado1(num1,num2,num3))\n",
        "\n",
        "print(\"\")\n",
        "\n",
        "print(\"Computo 2\")\n",
        "resultado2 = lambda num1,num2,num3: (num1+num2+num3)/3\n",
        "num1 = float(input(\"Ingrese nota de laboratorio 1: \"))\n",
        "num2 = float(input(\"Ingrese nota de laboratorio 2: \"))\n",
        "num3 = float(input(\"Ingrese la nota de parcial: \"))\n",
        "print(\"La suma es: \", resultado2(num1,num2,num3))\n",
        "\n",
        "print(\"\")\n",
        "\n",
        "print(\"Computo 3\")\n",
        "resultado3 = lambda num1,num2,num3: (num1+num2+num3)/3\n",
        "num1 = float(input(\"Ingrese nota de laboratorio 1: \"))\n",
        "num2 = float(input(\"Ingrese nota de laboratorio 2: \"))\n",
        "num3 = float(input(\"Ingrese nota de parcial: \"))\n",
        "print(\"La suma es: \", resultado3(num1,num2,num3))\n",
        "\n",
        "print(\"\")\n",
        "\n",
        "print(\"Nota Final\")\n",
        "nf = lambda nf1,nf2,nf3: (nf1+nf2+nf3)/3\n",
        "nf1 = float(input(\"Ingrese la nota del computo 1: \"))\n",
        "nf2 = float(input(\"Ingrese la nota del computo 2: \"))\n",
        "nf3 = float(input(\"Ingrese la nota del computo 3: \"))\n",
        "print(\"La nota final es: \", nf(nf1,nf2,nf3))"
      ],
      "execution_count": null,
      "outputs": [
        {
          "output_type": "stream",
          "text": [
            "Computo 1\n",
            "Ingrese nota de laboratorio 1: 6\n",
            "Ingrese Nota de laboratorio 2: 7\n",
            "Ingrese la nota de parcial: 8\n",
            "La nota es:  7.0\n",
            "\n",
            "Computo 2\n",
            "Ingrese nota de laboratorio 1: 3\n",
            "Ingrese nota de laboratorio 2: 4\n",
            "Ingrese la nota de parcial: 9\n",
            "La suma es:  5.333333333333333\n",
            "\n",
            "Computo 3\n",
            "Ingrese nota de laboratorio 1: 7\n",
            "Ingrese nota de laboratorio 2: 8\n",
            "Ingrese nota de parcial: 6\n",
            "La suma es:  7.0\n",
            "\n",
            "Nota Final\n",
            "Ingrese la nota del computo 1: 7.0\n",
            "Ingrese la nota del computo 2: 5.3\n",
            "Ingrese la nota del computo 3: 7.0\n",
            "La nota final es:  6.433333333333334\n"
          ],
          "name": "stdout"
        }
      ]
    },
    {
      "cell_type": "code",
      "metadata": {
        "id": "tnQ4nSLqMZrB",
        "colab": {
          "base_uri": "https://localhost:8080/"
        },
        "outputId": "569d6aac-69c9-4bbd-b43f-3e2b9fb24c96"
      },
      "source": [
        "conversion = lambda c: (c*9/5) + 32\n",
        "c = float(input(\"Celsius: \"))\n",
        "print(\"Grados C: \", c, \" a F: \", conversion(c))"
      ],
      "execution_count": null,
      "outputs": [
        {
          "output_type": "stream",
          "text": [
            "Celsius: 50\n",
            "Grados C:  50.0  a F:  122.0\n"
          ],
          "name": "stdout"
        }
      ]
    },
    {
      "cell_type": "code",
      "metadata": {
        "id": "ObnFCjmLbvqD",
        "colab": {
          "base_uri": "https://localhost:8080/"
        },
        "outputId": "f9eefe80-2225-4341-f3f7-42df1b483749"
      },
      "source": [
        "n = int(input(\"Tabla: \"))\n",
        "i=1\n",
        "while i<=10:\n",
        "  print(n,\"X\",i,\"=\",n*i)\n",
        "  i+=1"
      ],
      "execution_count": null,
      "outputs": [
        {
          "output_type": "stream",
          "text": [
            "Tabla: 2\n",
            "2 X 1 = 2\n",
            "2 X 2 = 4\n",
            "2 X 3 = 6\n",
            "2 X 4 = 8\n",
            "2 X 5 = 10\n",
            "2 X 6 = 12\n",
            "2 X 7 = 14\n",
            "2 X 8 = 16\n",
            "2 X 9 = 18\n",
            "2 X 10 = 20\n"
          ],
          "name": "stdout"
        }
      ]
    },
    {
      "cell_type": "code",
      "metadata": {
        "id": "p3-O0qRYdL-v",
        "colab": {
          "base_uri": "https://localhost:8080/"
        },
        "outputId": "dafd6e85-1d5e-4aab-ece8-99e857a53c0b"
      },
      "source": [
        "edad = int(input(\"Edad: \"))\n",
        "if edad<2:\n",
        "  print(\"Eres un bebe.\")\n",
        "elif edad<12:\n",
        "  print(\"Eres un niño\")\n",
        "elif edad<18:\n",
        "  print(\"Eres un adolescente\")\n",
        "elif edad<=55:\n",
        "  print(\"Eres joven\")\n",
        "elif edad<=65:\n",
        "  print(\"Eres adulto, un señor\")\n",
        "elif edad<=80:\n",
        "  print(\"Eres un adulto mayor\")\n",
        "elif edad<130:\n",
        "  print(\"Larga vidad\")\n",
        "else:\n",
        "  print(\"Error en la edad\")"
      ],
      "execution_count": null,
      "outputs": [
        {
          "output_type": "stream",
          "text": [
            "Edad: 2\n",
            "Eres un niño\n"
          ],
          "name": "stdout"
        }
      ]
    },
    {
      "cell_type": "code",
      "metadata": {
        "id": "PX2gVemrYzFx",
        "colab": {
          "base_uri": "https://localhost:8080/"
        },
        "outputId": "c2e15e26-1b65-4377-abe0-bdb588410c33"
      },
      "source": [
        "año_actual = 2021;\n",
        "mes_actual = 8;\n",
        "dia_actual = 26;\n",
        "\n",
        "año_nacimiento = int(input(\"ingrese su año de nacimiento: \"));\n",
        "mes_nacimiento = int(input(\"ingrese su mes de nacimiento: \"));\n",
        "dia_nacimiento = int(input(\"ingrese el dia de nacimiento: \"));\n",
        "\n",
        "if(mes_nacimiento>=mes_actual):\n",
        "  if(dia_nacimiento>dia_actual):\n",
        "    edad = año_actual - año_nacimiento - 1\n",
        "  else:\n",
        "      edad = año_actual - año_nacimiento\n",
        "else:\n",
        "  edad = año_actual - año_nacimiento\n",
        "print(\"La edad es: \", edad)"
      ],
      "execution_count": null,
      "outputs": [
        {
          "output_type": "stream",
          "text": [
            "ingrese su año de nacimiento: 2001\n",
            "ingrese su mes de nacimiento: 12\n",
            "ingrese el dia de nacimiento: 3\n",
            "La edad es:  20\n"
          ],
          "name": "stdout"
        }
      ]
    },
    {
      "cell_type": "code",
      "metadata": {
        "id": "LJOURtJwXRou",
        "colab": {
          "base_uri": "https://localhost:8080/"
        },
        "outputId": "ca57ab0c-951e-4b64-ae02-27f521f17fa0"
      },
      "source": [
        "sueldo = float(input(\"Sueldo: \"))\n",
        "isss = sueldo*0.03\n",
        "afp = sueldo*0.0625\n",
        "sueldoNeto = sueldo - (isss + afp)\n",
        "\n",
        "tablaIsr = [\n",
        "            [0.01,   472.0,   0,   0    ],\n",
        "            [472.01, 895.24,  0.1, 17.67],\n",
        "            [895.25, 2038.10, 0.2, 60   ],\n",
        "            [2038.11, 99999 , 0.3, 288.57]\n",
        "]\n",
        "isr = 0\n",
        "for tramo in tablaIsr:\n",
        "  if sueldoNeto>=tramo[0] and sueldo<=tramo[1]:\n",
        "    isr = (sueldoNeto - tramo[0])*tramo[2] + tramo[3]\n",
        "sueldoNeto -= isr\n",
        "print(sueldo, \"Deducciones: \", (isss + afp + isr), \" Sueldo Neto: \", sueldoNeto)"
      ],
      "execution_count": null,
      "outputs": [
        {
          "output_type": "stream",
          "text": [
            "Sueldo: 750\n",
            "750.0 Deducciones:  107.90650000000001  Sueldo Neto:  642.0935\n"
          ],
          "name": "stdout"
        }
      ]
    },
    {
      "cell_type": "code",
      "metadata": {
        "id": "AxCO-T0phfyS",
        "outputId": "e629a709-a4a2-4e83-c9bc-2e5581b402e4",
        "colab": {
          "base_uri": "https://localhost:8080/"
        }
      },
      "source": [
        "valores = [\n",
        "           [],\n",
        "           [0, 1, 0.85, 23.8, 35.11, 7.74, 8.75, 621.61, 6.46, 73.25, 73.50], #monedas\n",
        "           [0, 1, 100, 0.001, 0.000621371, 1.09361, 3.28084, 39.3701, 0.000539957, 1000, 1000000000], #Longitud\n",
        "           [0, 1, 16, 0.0714286, 0.0005, 0.000446429, 453600000000, 453592, 453.592, 0.453592, 0.000453592], #Masa\n",
        "           [0, 1, 0.001, 0.000001, 0.000000953674316, 0.000000001, 0.000000000931323, 0.000000000001, 0.000000000000909, 1000000000000000, 0.000976562], #Almacenamiento\n",
        "           [0, 1, 0.0166667, 0.000277778, 0.0000115741, 0.00000165344, 0.000000031688088, 1000000, 1000],#Tiempo\n",
        "           [0, 1, 1000, 0.001, 202.8841, 4.226753, 2.113376, 0.264172, 61.02374, 0.035315, 0.001308],#Volumen\n",
        "           [0, 1, 1000000, 10000, 0.0001, 0.000001, 1550.003, 10.76391, 1.19599, 0.000247, 0.000000386102159],#Area\n",
        "           []\n",
        "]\n",
        "etiquetas = [\n",
        "           [],\n",
        "           [\"1. Dolar\", \"2. Euro\", \"3. Lempira\",\"4. Cordobas\", \"5. Quetzalez\", \"6. Colon SV\", \"7. Colon CR\", \"8. Yuan\", \"9. Rublo Ruso\", \"10. Rupia India\"],\n",
        "           [\"1. Metro\", \"2. Centimetro\", \"3. Kilometro\", \"4. Milla\", \"5. Yarda\", \"6. Pie\", \"7. Pulgada\", \"8. Milla Nautica\", \"9. Milimetro\", \"10. Nanometro\"],\n",
        "           [\"1. Libra\",\"2. Onza\", \"3. Stone \", \"4. Tonelada Corta \", \"5. Tonelada Larga\", \"6. Microgramo \", \"7. Miligramo\", \"8. Gramo\", \"9. Kilogramo\", \"10. Tonelada \"],\n",
        "           [\"1. Byte\", \"2. Kilobyte\", \"3. Megabyte \", \"4. Megabibyte \", \"5. Gigabytes\", \"6. Gigabibytes\", \"7. Terabytes\", \"8. Tebibytes\", \"9. Petabytes\", \"10. kilobibytes\"],\n",
        "           [\"1. Segundos\", \"2. Minutos\", \"3. Horas\", \"4. Dias\", \"5. Semanas\", \"6. Años\", \"7. Microsegundos\", \"8. Milesegundos\"],\n",
        "           [\"1. Litros\", \"2. Mililitros\", \"3. Metros Cubicos\", \"4. Cucharadita\", \"5. Tazas\", \"6. Pintas\", \"7. Galones\", \"8. Pulgadas Cubicas\", \"9. Pies Cubicos\", \"10. Yardas Cubicas\"],\n",
        "           [\"1. Metros Cuadrados\", \"2. Milimetros Cuadrados\", \"3. Centimetros Cuadrados\", \"4. Hectareas\", \"5. Kilometros Cuadrados\", \"6. Pulgadas Cuadradas\", \"7. Pie Cuadrado\", \"8. Yardas Cuadradas\", \"9. Acres\", \"10. Millas Cuadradas\"],\n",
        "           []\n",
        "]\n",
        "def convertir(conversor, de, a, cantidad):\n",
        "  return valores[conversor][a]/valores[conversor][de] * cantidad\n",
        "\n",
        "print(\"*** MENU ***\")\n",
        "print(\"* 1. Monedas\")\n",
        "print(\"* 2. Longitud\")\n",
        "print(\"* 3. Masa\")\n",
        "print(\"* 4. Almacenamiento\")\n",
        "print(\"* 5. Tiempo\")\n",
        "print(\"* 6. Volumen\")\n",
        "print(\"* 7. Area\")\n",
        "\n",
        "conversor = int(input(\"Conversor: \"))\n",
        "\n",
        "print( etiquetas[conversor] )\n",
        "\n",
        "de = int(input(\"DE: \"))\n",
        "a = int(input(\"A: \"))\n",
        "cantidad = float(input(\"Cant: \"))\n",
        "\n",
        "print(\"Respuesta: \", convertir(conversor, de, a, cantidad) )"
      ],
      "execution_count": 4,
      "outputs": [
        {
          "output_type": "stream",
          "text": [
            "*** MENU ***\n",
            "* 1. Monedas\n",
            "* 2. Longitud\n",
            "* 3. Masa\n",
            "* 4. Almacenamiento\n",
            "* 5. Tiempo\n",
            "* 6. Volumen\n",
            "* 7. Area\n",
            "Conversor: 3\n",
            "['1. Libra', '2. Onza', '3. Stone ', '4. Tonelada Corta ', '5. Tonelada Larga', '6. Microgramo ', '7. Miligramo', '8. Gramo', '9. Kilogramo', '10. Tonelada ']\n",
            "DE: 5\n",
            "A: 9\n",
            "Cant: 4\n",
            "Respuesta:  4064.1804183867985\n"
          ],
          "name": "stdout"
        }
      ]
    },
    {
      "cell_type": "code",
      "metadata": {
        "id": "iuCD5JpPvdp7",
        "outputId": "9e1527d9-5ae4-418a-f09f-45e25363fa68",
        "colab": {
          "base_uri": "https://localhost:8080/"
        }
      },
      "source": [
        "print(\"1: 1-18\")\n",
        "print(\"2: 19-28\")\n",
        "print(\"3: 29 en adelante\")\n",
        "print (\"\")\n",
        "hl=int(input(\"coloque aqui opcion: \"))\n",
        "print (\"\")\n",
        "if hl==1:\n",
        "    dol1=int(input(\"introdusca cantidad de metros consumidos dentro del rango establecido: \"))\n",
        "    pesc=dol1=6\n",
        "    print (\"\")\n",
        "    print (\"TOTAL=\", pesc)\n",
        "if hl==2:\n",
        "    pesc1=float(input(\"introdusca cantidad de metros consumidos dentro del rango establecido: \"))\n",
        "    dol2=(pesc1-18)*0.45+6\n",
        "    print(\"\")\n",
        "    print(\"TOTAL=\", dol2)\n",
        "if hl==3:\n",
        "    dol3=int(input(\"introdusca la cantidad de metros consumidos dentro del rango establecido: \"))\n",
        "    e=(dol3-28)*0.65+(28-18)*0.45+6\n",
        "    print(\"\")\n",
        "    print(\"TOTAL=\", e)"
      ],
      "execution_count": 5,
      "outputs": [
        {
          "output_type": "stream",
          "text": [
            "1: 1-18\n",
            "2: 19-28\n",
            "3: 29 en adelante\n",
            "\n",
            "coloque aqui opcion: 1\n",
            "\n",
            "introdusca cantidad de metros consumidos dentro del rango establecido: 8\n",
            "\n",
            "TOTAL= 6\n"
          ],
          "name": "stdout"
        }
      ]
    },
    {
      "cell_type": "code",
      "metadata": {
        "id": "fgbsd7cbXlwa"
      },
      "source": [
        ""
      ],
      "execution_count": null,
      "outputs": []
    }
  ]
}